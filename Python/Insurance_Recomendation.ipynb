{
  "nbformat": 4,
  "nbformat_minor": 0,
  "metadata": {
    "kernelspec": {
      "display_name": "Python 3",
      "language": "python",
      "name": "python3"
    },
    "language_info": {
      "codemirror_mode": {
        "name": "ipython",
        "version": 3
      },
      "file_extension": ".py",
      "mimetype": "text/x-python",
      "name": "python",
      "nbconvert_exporter": "python",
      "pygments_lexer": "ipython3",
      "version": "3.6.5"
    },
    "colab": {
      "name": "Insurance_Recomendation.ipynb",
      "provenance": [],
      "collapsed_sections": [],
      "toc_visible": true
    }
  },
  "cells": [
    {
      "cell_type": "markdown",
      "metadata": {
        "id": "v68XhN0NhH0-",
        "colab_type": "text"
      },
      "source": [
        "# Importation librairies"
      ]
    },
    {
      "cell_type": "code",
      "metadata": {
        "id": "o007bbgMXKze",
        "colab_type": "code",
        "colab": {
          "base_uri": "https://localhost:8080/",
          "height": 122
        },
        "outputId": "cbeb3462-869c-484e-93e3-c0c430cdc250"
      },
      "source": [
        "#Install the package \"scikit-multilear\"\n",
        "!pip install scikit-multilearn"
      ],
      "execution_count": null,
      "outputs": [
        {
          "output_type": "stream",
          "text": [
            "Collecting scikit-multilearn\n",
            "\u001b[?25l  Downloading https://files.pythonhosted.org/packages/bb/1f/e6ff649c72a1cdf2c7a1d31eb21705110ce1c5d3e7e26b2cc300e1637272/scikit_multilearn-0.2.0-py3-none-any.whl (89kB)\n",
            "\r\u001b[K     |███▊                            | 10kB 8.3MB/s eta 0:00:01\r\u001b[K     |███████▍                        | 20kB 2.4MB/s eta 0:00:01\r\u001b[K     |███████████                     | 30kB 2.7MB/s eta 0:00:01\r\u001b[K     |██████████████▊                 | 40kB 3.1MB/s eta 0:00:01\r\u001b[K     |██████████████████▍             | 51kB 2.6MB/s eta 0:00:01\r\u001b[K     |██████████████████████          | 61kB 2.8MB/s eta 0:00:01\r\u001b[K     |█████████████████████████▊      | 71kB 3.1MB/s eta 0:00:01\r\u001b[K     |█████████████████████████████▍  | 81kB 3.4MB/s eta 0:00:01\r\u001b[K     |████████████████████████████████| 92kB 2.7MB/s \n",
            "\u001b[?25hInstalling collected packages: scikit-multilearn\n",
            "Successfully installed scikit-multilearn-0.2.0\n"
          ],
          "name": "stdout"
        }
      ]
    },
    {
      "cell_type": "code",
      "metadata": {
        "id": "O5V8lWPIhH1A",
        "colab_type": "code",
        "colab": {
          "base_uri": "https://localhost:8080/",
          "height": 71
        },
        "outputId": "4dba833a-4883-4191-8e7d-009ed0a20095"
      },
      "source": [
        "import pandas as pd\n",
        "import numpy as np\n",
        "import seaborn as sns\n",
        "import datetime\n",
        "import calendar\n",
        "import warnings\n",
        "import matplotlib.pyplot as plt\n",
        "from sklearn.pipeline import Pipeline\n",
        "from sklearn.impute import SimpleImputer\n",
        "from sklearn.preprocessing import  OneHotEncoder, StandardScaler\n",
        "from sklearn.compose import ColumnTransformer\n",
        "from sklearn.metrics import accuracy_score, hamming_loss, f1_score, recall_score, precision_score, roc_auc_score\n",
        "from sklearn.model_selection import train_test_split\n",
        "warnings.filterwarnings('ignore')\n",
        "sns.set(style=\"whitegrid\")"
      ],
      "execution_count": null,
      "outputs": [
        {
          "output_type": "stream",
          "text": [
            "/usr/local/lib/python3.6/dist-packages/statsmodels/tools/_testing.py:19: FutureWarning: pandas.util.testing is deprecated. Use the functions in the public API at pandas.testing instead.\n",
            "  import pandas.util.testing as tm\n"
          ],
          "name": "stderr"
        }
      ]
    },
    {
      "cell_type": "code",
      "metadata": {
        "id": "LlqxEPAijjfF",
        "colab_type": "code",
        "colab": {
          "base_uri": "https://localhost:8080/",
          "height": 122
        },
        "outputId": "4ed37994-6518-442c-adae-9d7d45294726"
      },
      "source": [
        "from google.colab import drive\n",
        "drive.mount('/content/drive')"
      ],
      "execution_count": null,
      "outputs": [
        {
          "output_type": "stream",
          "text": [
            "Go to this URL in a browser: https://accounts.google.com/o/oauth2/auth?client_id=947318989803-6bn6qk8qdgf4n4g3pfee6491hc0brc4i.apps.googleusercontent.com&redirect_uri=urn%3aietf%3awg%3aoauth%3a2.0%3aoob&scope=email%20https%3a%2f%2fwww.googleapis.com%2fauth%2fdocs.test%20https%3a%2f%2fwww.googleapis.com%2fauth%2fdrive%20https%3a%2f%2fwww.googleapis.com%2fauth%2fdrive.photos.readonly%20https%3a%2f%2fwww.googleapis.com%2fauth%2fpeopleapi.readonly&response_type=code\n",
            "\n",
            "Enter your authorization code:\n",
            "··········\n",
            "Mounted at /content/drive\n"
          ],
          "name": "stdout"
        }
      ]
    },
    {
      "cell_type": "markdown",
      "metadata": {
        "id": "LoeN5QqBhH1K",
        "colab_type": "text"
      },
      "source": [
        "# Data importation"
      ]
    },
    {
      "cell_type": "code",
      "metadata": {
        "id": "GzgOjob0hH1L",
        "colab_type": "code",
        "colab": {}
      },
      "source": [
        "df_train =  pd.read_csv(\"/content/drive/My Drive/Datasets/Train.csv\")\n",
        "df_test =  pd.read_csv(\"/content/drive/My Drive/Datasets/Test.csv\")"
      ],
      "execution_count": null,
      "outputs": []
    },
    {
      "cell_type": "markdown",
      "metadata": {
        "id": "XHbR9gVDhH1Q",
        "colab_type": "text"
      },
      "source": [
        "# Data exploration"
      ]
    },
    {
      "cell_type": "code",
      "metadata": {
        "id": "WN5EMUXihH1R",
        "colab_type": "code",
        "colab": {
          "base_uri": "https://localhost:8080/",
          "height": 51
        },
        "outputId": "dccb3281-12e2-48b9-df87-bc9b29267c13"
      },
      "source": [
        "#See the shape of data train and test\n",
        "print(df_train.shape)\n",
        "print(df_test.shape)"
      ],
      "execution_count": null,
      "outputs": [
        {
          "output_type": "stream",
          "text": [
            "(29132, 29)\n",
            "(10000, 29)\n"
          ],
          "name": "stdout"
        }
      ]
    },
    {
      "cell_type": "code",
      "metadata": {
        "id": "P4qYcx1EhH1V",
        "colab_type": "code",
        "colab": {
          "base_uri": "https://localhost:8080/",
          "height": 224
        },
        "outputId": "01902e65-a4a2-4766-ce4f-564c5377dae8"
      },
      "source": [
        "#See the sub data train\n",
        "df_train.head()"
      ],
      "execution_count": null,
      "outputs": [
        {
          "output_type": "execute_result",
          "data": {
            "text/html": [
              "<div>\n",
              "<style scoped>\n",
              "    .dataframe tbody tr th:only-of-type {\n",
              "        vertical-align: middle;\n",
              "    }\n",
              "\n",
              "    .dataframe tbody tr th {\n",
              "        vertical-align: top;\n",
              "    }\n",
              "\n",
              "    .dataframe thead th {\n",
              "        text-align: right;\n",
              "    }\n",
              "</style>\n",
              "<table border=\"1\" class=\"dataframe\">\n",
              "  <thead>\n",
              "    <tr style=\"text-align: right;\">\n",
              "      <th></th>\n",
              "      <th>ID</th>\n",
              "      <th>join_date</th>\n",
              "      <th>sex</th>\n",
              "      <th>marital_status</th>\n",
              "      <th>birth_year</th>\n",
              "      <th>branch_code</th>\n",
              "      <th>occupation_code</th>\n",
              "      <th>occupation_category_code</th>\n",
              "      <th>P5DA</th>\n",
              "      <th>RIBP</th>\n",
              "      <th>8NN1</th>\n",
              "      <th>7POT</th>\n",
              "      <th>66FJ</th>\n",
              "      <th>GYSR</th>\n",
              "      <th>SOP4</th>\n",
              "      <th>RVSZ</th>\n",
              "      <th>PYUQ</th>\n",
              "      <th>LJR9</th>\n",
              "      <th>N2MW</th>\n",
              "      <th>AHXO</th>\n",
              "      <th>BSTQ</th>\n",
              "      <th>FM3X</th>\n",
              "      <th>K6QO</th>\n",
              "      <th>QBOL</th>\n",
              "      <th>JWFN</th>\n",
              "      <th>JZ9D</th>\n",
              "      <th>J9JW</th>\n",
              "      <th>GHYX</th>\n",
              "      <th>ECY3</th>\n",
              "    </tr>\n",
              "  </thead>\n",
              "  <tbody>\n",
              "    <tr>\n",
              "      <th>0</th>\n",
              "      <td>4WKQSBB</td>\n",
              "      <td>1/2/2019</td>\n",
              "      <td>F</td>\n",
              "      <td>M</td>\n",
              "      <td>1987</td>\n",
              "      <td>1X1H</td>\n",
              "      <td>2A7I</td>\n",
              "      <td>T4MS</td>\n",
              "      <td>0</td>\n",
              "      <td>0</td>\n",
              "      <td>0</td>\n",
              "      <td>0</td>\n",
              "      <td>0</td>\n",
              "      <td>0</td>\n",
              "      <td>0</td>\n",
              "      <td>1</td>\n",
              "      <td>0</td>\n",
              "      <td>0</td>\n",
              "      <td>0</td>\n",
              "      <td>0</td>\n",
              "      <td>0</td>\n",
              "      <td>0</td>\n",
              "      <td>1</td>\n",
              "      <td>0</td>\n",
              "      <td>0</td>\n",
              "      <td>0</td>\n",
              "      <td>0</td>\n",
              "      <td>0</td>\n",
              "      <td>0</td>\n",
              "    </tr>\n",
              "    <tr>\n",
              "      <th>1</th>\n",
              "      <td>CP5S02H</td>\n",
              "      <td>1/6/2019</td>\n",
              "      <td>F</td>\n",
              "      <td>M</td>\n",
              "      <td>1981</td>\n",
              "      <td>UAOD</td>\n",
              "      <td>2A7I</td>\n",
              "      <td>T4MS</td>\n",
              "      <td>0</td>\n",
              "      <td>0</td>\n",
              "      <td>0</td>\n",
              "      <td>0</td>\n",
              "      <td>0</td>\n",
              "      <td>0</td>\n",
              "      <td>0</td>\n",
              "      <td>1</td>\n",
              "      <td>0</td>\n",
              "      <td>0</td>\n",
              "      <td>0</td>\n",
              "      <td>0</td>\n",
              "      <td>0</td>\n",
              "      <td>0</td>\n",
              "      <td>1</td>\n",
              "      <td>0</td>\n",
              "      <td>0</td>\n",
              "      <td>0</td>\n",
              "      <td>0</td>\n",
              "      <td>0</td>\n",
              "      <td>0</td>\n",
              "    </tr>\n",
              "    <tr>\n",
              "      <th>2</th>\n",
              "      <td>2YKDILJ</td>\n",
              "      <td>1/6/2013</td>\n",
              "      <td>M</td>\n",
              "      <td>U</td>\n",
              "      <td>1991</td>\n",
              "      <td>748L</td>\n",
              "      <td>QZYX</td>\n",
              "      <td>90QI</td>\n",
              "      <td>0</td>\n",
              "      <td>0</td>\n",
              "      <td>0</td>\n",
              "      <td>0</td>\n",
              "      <td>0</td>\n",
              "      <td>0</td>\n",
              "      <td>1</td>\n",
              "      <td>1</td>\n",
              "      <td>0</td>\n",
              "      <td>0</td>\n",
              "      <td>0</td>\n",
              "      <td>0</td>\n",
              "      <td>0</td>\n",
              "      <td>0</td>\n",
              "      <td>0</td>\n",
              "      <td>0</td>\n",
              "      <td>0</td>\n",
              "      <td>0</td>\n",
              "      <td>0</td>\n",
              "      <td>0</td>\n",
              "      <td>1</td>\n",
              "    </tr>\n",
              "    <tr>\n",
              "      <th>3</th>\n",
              "      <td>2S9E81J</td>\n",
              "      <td>1/8/2019</td>\n",
              "      <td>M</td>\n",
              "      <td>M</td>\n",
              "      <td>1990</td>\n",
              "      <td>1X1H</td>\n",
              "      <td>BP09</td>\n",
              "      <td>56SI</td>\n",
              "      <td>0</td>\n",
              "      <td>0</td>\n",
              "      <td>0</td>\n",
              "      <td>0</td>\n",
              "      <td>0</td>\n",
              "      <td>0</td>\n",
              "      <td>0</td>\n",
              "      <td>1</td>\n",
              "      <td>0</td>\n",
              "      <td>0</td>\n",
              "      <td>0</td>\n",
              "      <td>0</td>\n",
              "      <td>0</td>\n",
              "      <td>0</td>\n",
              "      <td>1</td>\n",
              "      <td>0</td>\n",
              "      <td>0</td>\n",
              "      <td>0</td>\n",
              "      <td>0</td>\n",
              "      <td>0</td>\n",
              "      <td>0</td>\n",
              "    </tr>\n",
              "    <tr>\n",
              "      <th>4</th>\n",
              "      <td>BHDYVFT</td>\n",
              "      <td>1/8/2019</td>\n",
              "      <td>M</td>\n",
              "      <td>M</td>\n",
              "      <td>1990</td>\n",
              "      <td>748L</td>\n",
              "      <td>NO3L</td>\n",
              "      <td>T4MS</td>\n",
              "      <td>0</td>\n",
              "      <td>0</td>\n",
              "      <td>0</td>\n",
              "      <td>0</td>\n",
              "      <td>0</td>\n",
              "      <td>0</td>\n",
              "      <td>0</td>\n",
              "      <td>0</td>\n",
              "      <td>0</td>\n",
              "      <td>0</td>\n",
              "      <td>0</td>\n",
              "      <td>0</td>\n",
              "      <td>0</td>\n",
              "      <td>0</td>\n",
              "      <td>0</td>\n",
              "      <td>0</td>\n",
              "      <td>0</td>\n",
              "      <td>1</td>\n",
              "      <td>1</td>\n",
              "      <td>0</td>\n",
              "      <td>0</td>\n",
              "    </tr>\n",
              "  </tbody>\n",
              "</table>\n",
              "</div>"
            ],
            "text/plain": [
              "        ID join_date sex marital_status  ...  JZ9D J9JW GHYX ECY3\n",
              "0  4WKQSBB  1/2/2019   F              M  ...     0    0    0    0\n",
              "1  CP5S02H  1/6/2019   F              M  ...     0    0    0    0\n",
              "2  2YKDILJ  1/6/2013   M              U  ...     0    0    0    1\n",
              "3  2S9E81J  1/8/2019   M              M  ...     0    0    0    0\n",
              "4  BHDYVFT  1/8/2019   M              M  ...     1    1    0    0\n",
              "\n",
              "[5 rows x 29 columns]"
            ]
          },
          "metadata": {
            "tags": []
          },
          "execution_count": 6
        }
      ]
    },
    {
      "cell_type": "code",
      "metadata": {
        "id": "FMai4LZ0hH1Z",
        "colab_type": "code",
        "colab": {
          "base_uri": "https://localhost:8080/",
          "height": 629
        },
        "outputId": "57b11e2f-7a6c-416d-a379-ce607dabb336"
      },
      "source": [
        "#See the information on metadata\n",
        "df_train.info()"
      ],
      "execution_count": null,
      "outputs": [
        {
          "output_type": "stream",
          "text": [
            "<class 'pandas.core.frame.DataFrame'>\n",
            "RangeIndex: 29132 entries, 0 to 29131\n",
            "Data columns (total 29 columns):\n",
            " #   Column                    Non-Null Count  Dtype \n",
            "---  ------                    --------------  ----- \n",
            " 0   ID                        29132 non-null  object\n",
            " 1   join_date                 29130 non-null  object\n",
            " 2   sex                       29132 non-null  object\n",
            " 3   marital_status            29132 non-null  object\n",
            " 4   birth_year                29132 non-null  int64 \n",
            " 5   branch_code               29132 non-null  object\n",
            " 6   occupation_code           29132 non-null  object\n",
            " 7   occupation_category_code  29132 non-null  object\n",
            " 8   P5DA                      29132 non-null  int64 \n",
            " 9   RIBP                      29132 non-null  int64 \n",
            " 10  8NN1                      29132 non-null  int64 \n",
            " 11  7POT                      29132 non-null  int64 \n",
            " 12  66FJ                      29132 non-null  int64 \n",
            " 13  GYSR                      29132 non-null  int64 \n",
            " 14  SOP4                      29132 non-null  int64 \n",
            " 15  RVSZ                      29132 non-null  int64 \n",
            " 16  PYUQ                      29132 non-null  int64 \n",
            " 17  LJR9                      29132 non-null  int64 \n",
            " 18  N2MW                      29132 non-null  int64 \n",
            " 19  AHXO                      29132 non-null  int64 \n",
            " 20  BSTQ                      29132 non-null  int64 \n",
            " 21  FM3X                      29132 non-null  int64 \n",
            " 22  K6QO                      29132 non-null  int64 \n",
            " 23  QBOL                      29132 non-null  int64 \n",
            " 24  JWFN                      29132 non-null  int64 \n",
            " 25  JZ9D                      29132 non-null  int64 \n",
            " 26  J9JW                      29132 non-null  int64 \n",
            " 27  GHYX                      29132 non-null  int64 \n",
            " 28  ECY3                      29132 non-null  int64 \n",
            "dtypes: int64(22), object(7)\n",
            "memory usage: 6.4+ MB\n"
          ],
          "name": "stdout"
        }
      ]
    },
    {
      "cell_type": "code",
      "metadata": {
        "id": "4OdhQXc2hH1d",
        "colab_type": "code",
        "colab": {
          "base_uri": "https://localhost:8080/",
          "height": 34
        },
        "outputId": "ec71a9d5-2b82-4b09-e3ce-5a4c70dd82d5"
      },
      "source": [
        "#The ID customers duplicates\n",
        "print(len(df_train['ID'].unique())) #There is not duplicates"
      ],
      "execution_count": null,
      "outputs": [
        {
          "output_type": "stream",
          "text": [
            "29132\n"
          ],
          "name": "stdout"
        }
      ]
    },
    {
      "cell_type": "code",
      "metadata": {
        "id": "E6Ksh8EehH1h",
        "colab_type": "code",
        "colab": {
          "base_uri": "https://localhost:8080/",
          "height": 527
        },
        "outputId": "21159152-5662-46e5-c4eb-50f34b1d67e8"
      },
      "source": [
        "#See the missing data\n",
        "df_train.isnull().sum()"
      ],
      "execution_count": null,
      "outputs": [
        {
          "output_type": "execute_result",
          "data": {
            "text/plain": [
              "ID                          0\n",
              "join_date                   2\n",
              "sex                         0\n",
              "marital_status              0\n",
              "birth_year                  0\n",
              "branch_code                 0\n",
              "occupation_code             0\n",
              "occupation_category_code    0\n",
              "P5DA                        0\n",
              "RIBP                        0\n",
              "8NN1                        0\n",
              "7POT                        0\n",
              "66FJ                        0\n",
              "GYSR                        0\n",
              "SOP4                        0\n",
              "RVSZ                        0\n",
              "PYUQ                        0\n",
              "LJR9                        0\n",
              "N2MW                        0\n",
              "AHXO                        0\n",
              "BSTQ                        0\n",
              "FM3X                        0\n",
              "K6QO                        0\n",
              "QBOL                        0\n",
              "JWFN                        0\n",
              "JZ9D                        0\n",
              "J9JW                        0\n",
              "GHYX                        0\n",
              "ECY3                        0\n",
              "dtype: int64"
            ]
          },
          "metadata": {
            "tags": []
          },
          "execution_count": 9
        }
      ]
    },
    {
      "cell_type": "code",
      "metadata": {
        "id": "Ub40RKZthH1o",
        "colab_type": "code",
        "colab": {}
      },
      "source": [
        "#Remove missing data\n",
        "df_train_cleaned = df_train.dropna()"
      ],
      "execution_count": null,
      "outputs": []
    },
    {
      "cell_type": "code",
      "metadata": {
        "id": "UCmMbbSlhH1s",
        "colab_type": "code",
        "colab": {}
      },
      "source": [
        "#conversion join_date in format date time\n",
        "df_train_cleaned['join_date'] = pd.to_datetime(df_train_cleaned['join_date'], format = '%d/%m/%Y')\n",
        "\n",
        "#Month of join date\n",
        "df_train_cleaned[\"join_date_month\"] = df_train_cleaned['join_date'].dt.month\n",
        "\n",
        "# Yaer of join date\n",
        "df_train_cleaned[\"join_date_year\"] = df_train_cleaned['join_date'].dt.year\n",
        "\n",
        "# Age of customer when joined the zinmat\n",
        "df_train_cleaned[\"Age\"] = df_train_cleaned[\"join_date_year\"] - df_train_cleaned[\"birth_year\"]"
      ],
      "execution_count": null,
      "outputs": []
    },
    {
      "cell_type": "code",
      "metadata": {
        "id": "ELvNysDXhH1y",
        "colab_type": "code",
        "colab": {
          "base_uri": "https://localhost:8080/",
          "height": 309
        },
        "outputId": "b687d11b-5817-4e20-b7e7-ff53dc6ab809"
      },
      "source": [
        "df_train_cleaned.head()"
      ],
      "execution_count": null,
      "outputs": [
        {
          "output_type": "execute_result",
          "data": {
            "text/html": [
              "<div>\n",
              "<style scoped>\n",
              "    .dataframe tbody tr th:only-of-type {\n",
              "        vertical-align: middle;\n",
              "    }\n",
              "\n",
              "    .dataframe tbody tr th {\n",
              "        vertical-align: top;\n",
              "    }\n",
              "\n",
              "    .dataframe thead th {\n",
              "        text-align: right;\n",
              "    }\n",
              "</style>\n",
              "<table border=\"1\" class=\"dataframe\">\n",
              "  <thead>\n",
              "    <tr style=\"text-align: right;\">\n",
              "      <th></th>\n",
              "      <th>ID</th>\n",
              "      <th>join_date</th>\n",
              "      <th>sex</th>\n",
              "      <th>marital_status</th>\n",
              "      <th>birth_year</th>\n",
              "      <th>branch_code</th>\n",
              "      <th>occupation_code</th>\n",
              "      <th>occupation_category_code</th>\n",
              "      <th>P5DA</th>\n",
              "      <th>RIBP</th>\n",
              "      <th>8NN1</th>\n",
              "      <th>7POT</th>\n",
              "      <th>66FJ</th>\n",
              "      <th>GYSR</th>\n",
              "      <th>SOP4</th>\n",
              "      <th>RVSZ</th>\n",
              "      <th>PYUQ</th>\n",
              "      <th>LJR9</th>\n",
              "      <th>N2MW</th>\n",
              "      <th>AHXO</th>\n",
              "      <th>BSTQ</th>\n",
              "      <th>FM3X</th>\n",
              "      <th>K6QO</th>\n",
              "      <th>QBOL</th>\n",
              "      <th>JWFN</th>\n",
              "      <th>JZ9D</th>\n",
              "      <th>J9JW</th>\n",
              "      <th>GHYX</th>\n",
              "      <th>ECY3</th>\n",
              "      <th>join_date_month</th>\n",
              "      <th>join_date_year</th>\n",
              "      <th>Age</th>\n",
              "    </tr>\n",
              "  </thead>\n",
              "  <tbody>\n",
              "    <tr>\n",
              "      <th>0</th>\n",
              "      <td>4WKQSBB</td>\n",
              "      <td>2019-02-01</td>\n",
              "      <td>F</td>\n",
              "      <td>M</td>\n",
              "      <td>1987</td>\n",
              "      <td>1X1H</td>\n",
              "      <td>2A7I</td>\n",
              "      <td>T4MS</td>\n",
              "      <td>0</td>\n",
              "      <td>0</td>\n",
              "      <td>0</td>\n",
              "      <td>0</td>\n",
              "      <td>0</td>\n",
              "      <td>0</td>\n",
              "      <td>0</td>\n",
              "      <td>1</td>\n",
              "      <td>0</td>\n",
              "      <td>0</td>\n",
              "      <td>0</td>\n",
              "      <td>0</td>\n",
              "      <td>0</td>\n",
              "      <td>0</td>\n",
              "      <td>1</td>\n",
              "      <td>0</td>\n",
              "      <td>0</td>\n",
              "      <td>0</td>\n",
              "      <td>0</td>\n",
              "      <td>0</td>\n",
              "      <td>0</td>\n",
              "      <td>2</td>\n",
              "      <td>2019</td>\n",
              "      <td>32</td>\n",
              "    </tr>\n",
              "    <tr>\n",
              "      <th>1</th>\n",
              "      <td>CP5S02H</td>\n",
              "      <td>2019-06-01</td>\n",
              "      <td>F</td>\n",
              "      <td>M</td>\n",
              "      <td>1981</td>\n",
              "      <td>UAOD</td>\n",
              "      <td>2A7I</td>\n",
              "      <td>T4MS</td>\n",
              "      <td>0</td>\n",
              "      <td>0</td>\n",
              "      <td>0</td>\n",
              "      <td>0</td>\n",
              "      <td>0</td>\n",
              "      <td>0</td>\n",
              "      <td>0</td>\n",
              "      <td>1</td>\n",
              "      <td>0</td>\n",
              "      <td>0</td>\n",
              "      <td>0</td>\n",
              "      <td>0</td>\n",
              "      <td>0</td>\n",
              "      <td>0</td>\n",
              "      <td>1</td>\n",
              "      <td>0</td>\n",
              "      <td>0</td>\n",
              "      <td>0</td>\n",
              "      <td>0</td>\n",
              "      <td>0</td>\n",
              "      <td>0</td>\n",
              "      <td>6</td>\n",
              "      <td>2019</td>\n",
              "      <td>38</td>\n",
              "    </tr>\n",
              "    <tr>\n",
              "      <th>2</th>\n",
              "      <td>2YKDILJ</td>\n",
              "      <td>2013-06-01</td>\n",
              "      <td>M</td>\n",
              "      <td>U</td>\n",
              "      <td>1991</td>\n",
              "      <td>748L</td>\n",
              "      <td>QZYX</td>\n",
              "      <td>90QI</td>\n",
              "      <td>0</td>\n",
              "      <td>0</td>\n",
              "      <td>0</td>\n",
              "      <td>0</td>\n",
              "      <td>0</td>\n",
              "      <td>0</td>\n",
              "      <td>1</td>\n",
              "      <td>1</td>\n",
              "      <td>0</td>\n",
              "      <td>0</td>\n",
              "      <td>0</td>\n",
              "      <td>0</td>\n",
              "      <td>0</td>\n",
              "      <td>0</td>\n",
              "      <td>0</td>\n",
              "      <td>0</td>\n",
              "      <td>0</td>\n",
              "      <td>0</td>\n",
              "      <td>0</td>\n",
              "      <td>0</td>\n",
              "      <td>1</td>\n",
              "      <td>6</td>\n",
              "      <td>2013</td>\n",
              "      <td>22</td>\n",
              "    </tr>\n",
              "    <tr>\n",
              "      <th>3</th>\n",
              "      <td>2S9E81J</td>\n",
              "      <td>2019-08-01</td>\n",
              "      <td>M</td>\n",
              "      <td>M</td>\n",
              "      <td>1990</td>\n",
              "      <td>1X1H</td>\n",
              "      <td>BP09</td>\n",
              "      <td>56SI</td>\n",
              "      <td>0</td>\n",
              "      <td>0</td>\n",
              "      <td>0</td>\n",
              "      <td>0</td>\n",
              "      <td>0</td>\n",
              "      <td>0</td>\n",
              "      <td>0</td>\n",
              "      <td>1</td>\n",
              "      <td>0</td>\n",
              "      <td>0</td>\n",
              "      <td>0</td>\n",
              "      <td>0</td>\n",
              "      <td>0</td>\n",
              "      <td>0</td>\n",
              "      <td>1</td>\n",
              "      <td>0</td>\n",
              "      <td>0</td>\n",
              "      <td>0</td>\n",
              "      <td>0</td>\n",
              "      <td>0</td>\n",
              "      <td>0</td>\n",
              "      <td>8</td>\n",
              "      <td>2019</td>\n",
              "      <td>29</td>\n",
              "    </tr>\n",
              "    <tr>\n",
              "      <th>4</th>\n",
              "      <td>BHDYVFT</td>\n",
              "      <td>2019-08-01</td>\n",
              "      <td>M</td>\n",
              "      <td>M</td>\n",
              "      <td>1990</td>\n",
              "      <td>748L</td>\n",
              "      <td>NO3L</td>\n",
              "      <td>T4MS</td>\n",
              "      <td>0</td>\n",
              "      <td>0</td>\n",
              "      <td>0</td>\n",
              "      <td>0</td>\n",
              "      <td>0</td>\n",
              "      <td>0</td>\n",
              "      <td>0</td>\n",
              "      <td>0</td>\n",
              "      <td>0</td>\n",
              "      <td>0</td>\n",
              "      <td>0</td>\n",
              "      <td>0</td>\n",
              "      <td>0</td>\n",
              "      <td>0</td>\n",
              "      <td>0</td>\n",
              "      <td>0</td>\n",
              "      <td>0</td>\n",
              "      <td>1</td>\n",
              "      <td>1</td>\n",
              "      <td>0</td>\n",
              "      <td>0</td>\n",
              "      <td>8</td>\n",
              "      <td>2019</td>\n",
              "      <td>29</td>\n",
              "    </tr>\n",
              "  </tbody>\n",
              "</table>\n",
              "</div>"
            ],
            "text/plain": [
              "        ID  join_date sex  ... join_date_month  join_date_year Age\n",
              "0  4WKQSBB 2019-02-01   F  ...               2            2019  32\n",
              "1  CP5S02H 2019-06-01   F  ...               6            2019  38\n",
              "2  2YKDILJ 2013-06-01   M  ...               6            2013  22\n",
              "3  2S9E81J 2019-08-01   M  ...               8            2019  29\n",
              "4  BHDYVFT 2019-08-01   M  ...               8            2019  29\n",
              "\n",
              "[5 rows x 32 columns]"
            ]
          },
          "metadata": {
            "tags": []
          },
          "execution_count": 12
        }
      ]
    },
    {
      "cell_type": "markdown",
      "metadata": {
        "id": "UH39l62klIUl",
        "colab_type": "text"
      },
      "source": [
        "# Univariate analysis"
      ]
    },
    {
      "cell_type": "markdown",
      "metadata": {
        "id": "P543Nxe5lRwT",
        "colab_type": "text"
      },
      "source": [
        "## Quantitatives variables"
      ]
    },
    {
      "cell_type": "code",
      "metadata": {
        "id": "yBMFhlQ4laX6",
        "colab_type": "code",
        "colab": {
          "base_uri": "https://localhost:8080/",
          "height": 297
        },
        "outputId": "70676957-b59d-4b56-d4dc-2d7fbcc5ce77"
      },
      "source": [
        "##Statistiques descriptives\n",
        "df_train_cleaned[['Age', 'join_date_month', 'join_date_year']].describe()"
      ],
      "execution_count": null,
      "outputs": [
        {
          "output_type": "execute_result",
          "data": {
            "text/html": [
              "<div>\n",
              "<style scoped>\n",
              "    .dataframe tbody tr th:only-of-type {\n",
              "        vertical-align: middle;\n",
              "    }\n",
              "\n",
              "    .dataframe tbody tr th {\n",
              "        vertical-align: top;\n",
              "    }\n",
              "\n",
              "    .dataframe thead th {\n",
              "        text-align: right;\n",
              "    }\n",
              "</style>\n",
              "<table border=\"1\" class=\"dataframe\">\n",
              "  <thead>\n",
              "    <tr style=\"text-align: right;\">\n",
              "      <th></th>\n",
              "      <th>Age</th>\n",
              "      <th>join_date_month</th>\n",
              "      <th>join_date_year</th>\n",
              "    </tr>\n",
              "  </thead>\n",
              "  <tbody>\n",
              "    <tr>\n",
              "      <th>count</th>\n",
              "      <td>29130.000000</td>\n",
              "      <td>29130.000000</td>\n",
              "      <td>29130.000000</td>\n",
              "    </tr>\n",
              "    <tr>\n",
              "      <th>mean</th>\n",
              "      <td>38.201716</td>\n",
              "      <td>6.356574</td>\n",
              "      <td>2017.719636</td>\n",
              "    </tr>\n",
              "    <tr>\n",
              "      <th>std</th>\n",
              "      <td>9.251233</td>\n",
              "      <td>3.335679</td>\n",
              "      <td>1.914486</td>\n",
              "    </tr>\n",
              "    <tr>\n",
              "      <th>min</th>\n",
              "      <td>8.000000</td>\n",
              "      <td>1.000000</td>\n",
              "      <td>2010.000000</td>\n",
              "    </tr>\n",
              "    <tr>\n",
              "      <th>25%</th>\n",
              "      <td>31.000000</td>\n",
              "      <td>4.000000</td>\n",
              "      <td>2017.000000</td>\n",
              "    </tr>\n",
              "    <tr>\n",
              "      <th>50%</th>\n",
              "      <td>38.000000</td>\n",
              "      <td>6.000000</td>\n",
              "      <td>2018.000000</td>\n",
              "    </tr>\n",
              "    <tr>\n",
              "      <th>75%</th>\n",
              "      <td>45.000000</td>\n",
              "      <td>9.000000</td>\n",
              "      <td>2019.000000</td>\n",
              "    </tr>\n",
              "    <tr>\n",
              "      <th>max</th>\n",
              "      <td>80.000000</td>\n",
              "      <td>12.000000</td>\n",
              "      <td>2020.000000</td>\n",
              "    </tr>\n",
              "  </tbody>\n",
              "</table>\n",
              "</div>"
            ],
            "text/plain": [
              "                Age  join_date_month  join_date_year\n",
              "count  29130.000000     29130.000000    29130.000000\n",
              "mean      38.201716         6.356574     2017.719636\n",
              "std        9.251233         3.335679        1.914486\n",
              "min        8.000000         1.000000     2010.000000\n",
              "25%       31.000000         4.000000     2017.000000\n",
              "50%       38.000000         6.000000     2018.000000\n",
              "75%       45.000000         9.000000     2019.000000\n",
              "max       80.000000        12.000000     2020.000000"
            ]
          },
          "metadata": {
            "tags": []
          },
          "execution_count": 13
        }
      ]
    },
    {
      "cell_type": "code",
      "metadata": {
        "id": "heNcozBHlO3T",
        "colab_type": "code",
        "colab": {
          "base_uri": "https://localhost:8080/",
          "height": 394
        },
        "outputId": "a60c6b40-f897-4c6c-cfa1-e270883280f9"
      },
      "source": [
        "##Histogram et boxplot Age\n",
        "plt.figure(figsize=(15, 6))\n",
        "\n",
        "plt.subplot(121)\n",
        "sns.distplot(df_train_cleaned.Age)\n",
        "\n",
        "plt.subplot(122)\n",
        "sns.boxplot(df_train_cleaned.Age)\n",
        "\n",
        "plt.show()"
      ],
      "execution_count": null,
      "outputs": [
        {
          "output_type": "display_data",
          "data": {
            "image/png": "[encoded data removed]",
            "text/plain": [
              "<Figure size 1080x432 with 2 Axes>"
            ]
          },
          "metadata": {
            "tags": []
          }
        }
      ]
    },
    {
      "cell_type": "markdown",
      "metadata": {
        "id": "fT1CW_puno7J",
        "colab_type": "text"
      },
      "source": [
        "## Qualitative variables"
      ]
    },
    {
      "cell_type": "code",
      "metadata": {
        "id": "5eyINTv7hH14",
        "colab_type": "code",
        "colab": {
          "base_uri": "https://localhost:8080/",
          "height": 170
        },
        "outputId": "2b55e6e7-20d9-4eec-e47e-ce0caad4a6fe"
      },
      "source": [
        "##Statistics on sex\n",
        "print(\"========Frequency (n)=========\")\n",
        "tab1 = pd.DataFrame(df_train_cleaned['sex'].value_counts())\n",
        "print(tab1)\n",
        "\n",
        "print(\"\")\n",
        "\n",
        "print(\"========Proportion (%)=========\")\n",
        "tab2 = pd.DataFrame(np.round(100*df_train_cleaned['sex'].value_counts(normalize = True), 0))\n",
        "print(tab2)"
      ],
      "execution_count": null,
      "outputs": [
        {
          "output_type": "stream",
          "text": [
            "========Frequency (n)=========\n",
            "     sex\n",
            "M  20327\n",
            "F   8803\n",
            "\n",
            "========Proportion (%)=========\n",
            "    sex\n",
            "M  70.0\n",
            "F  30.0\n"
          ],
          "name": "stdout"
        }
      ]
    },
    {
      "cell_type": "code",
      "metadata": {
        "id": "zecoNeyZog98",
        "colab_type": "code",
        "colab": {
          "base_uri": "https://localhost:8080/",
          "height": 415
        },
        "outputId": "1f56e8e6-8b75-4ac8-dd50-7a00b0965529"
      },
      "source": [
        "plt.figure(figsize=(8, 6))\n",
        "ax = sns.barplot(x = tab2.index, y = tab2.sex, palette=\"Blues_d\")\n",
        "ax.set_ylim(0, 100)\n",
        "ax.set_ylabel('(%)')\n",
        "ax.set_xlabel('Sex')"
      ],
      "execution_count": null,
      "outputs": [
        {
          "output_type": "execute_result",
          "data": {
            "text/plain": [
              "Text(0.5, 0, 'Sex')"
            ]
          },
          "metadata": {
            "tags": []
          },
          "execution_count": 16
        },
        {
          "output_type": "display_data",
          "data": {
            "image/png": "[encoded data removed]",
            "text/plain": [
              "<Figure size 576x432 with 1 Axes>"
            ]
          },
          "metadata": {
            "tags": []
          }
        }
      ]
    },
    {
      "cell_type": "code",
      "metadata": {
        "id": "BF3zky-jouEB",
        "colab_type": "code",
        "colab": {
          "base_uri": "https://localhost:8080/",
          "height": 374
        },
        "outputId": "c03cad5d-bfc1-4ea3-eeb8-d18ea7251c95"
      },
      "source": [
        "##Statistics on marital_status\n",
        "print(\"========Frequency (n)=========\")\n",
        "tab1 = pd.DataFrame(df_train_cleaned['marital_status'].value_counts())\n",
        "print(tab1)\n",
        "\n",
        "print(\"\")\n",
        "\n",
        "print(\"========Proportion (%)=========\")\n",
        "tab2 = pd.DataFrame(np.round(100*df_train_cleaned['marital_status'].value_counts(normalize = True), 0))\n",
        "print(tab2)"
      ],
      "execution_count": null,
      "outputs": [
        {
          "output_type": "stream",
          "text": [
            "========Frequency (n)=========\n",
            "   marital_status\n",
            "M           22912\n",
            "S            3267\n",
            "U            2473\n",
            "W             301\n",
            "D             135\n",
            "R              34\n",
            "P               7\n",
            "f               1\n",
            "\n",
            "========Proportion (%)=========\n",
            "   marital_status\n",
            "M            79.0\n",
            "S            11.0\n",
            "U             8.0\n",
            "W             1.0\n",
            "D             0.0\n",
            "R             0.0\n",
            "P             0.0\n",
            "f             0.0\n"
          ],
          "name": "stdout"
        }
      ]
    },
    {
      "cell_type": "code",
      "metadata": {
        "id": "9Cga4mbOoqSa",
        "colab_type": "code",
        "colab": {
          "base_uri": "https://localhost:8080/",
          "height": 415
        },
        "outputId": "3940d588-6c83-43c5-f9ce-7e9cf2a97e0e"
      },
      "source": [
        "plt.figure(figsize=(8, 6))\n",
        "ax = sns.barplot(x = tab2.index, y = tab2.marital_status, palette=\"Blues_d\")\n",
        "ax.set_ylim(0, 100)\n",
        "ax.set_ylabel('(%)')\n",
        "ax.set_xlabel('Marital status')"
      ],
      "execution_count": null,
      "outputs": [
        {
          "output_type": "execute_result",
          "data": {
            "text/plain": [
              "Text(0.5, 0, 'Marital status')"
            ]
          },
          "metadata": {
            "tags": []
          },
          "execution_count": 18
        },
        {
          "output_type": "display_data",
          "data": {
            "image/png": "[encoded data removed]",
            "text/plain": [
              "<Figure size 576x432 with 1 Axes>"
            ]
          },
          "metadata": {
            "tags": []
          }
        }
      ]
    },
    {
      "cell_type": "code",
      "metadata": {
        "id": "sHBuGCMcrTgC",
        "colab_type": "code",
        "colab": {
          "base_uri": "https://localhost:8080/",
          "height": 612
        },
        "outputId": "9961afe1-5f61-46f5-f61d-dc4d65d42196"
      },
      "source": [
        "##Statistics on branch_code\n",
        "print(\"========Frequency (n)=========\")\n",
        "tab1 = pd.DataFrame(df_train_cleaned['branch_code'].value_counts())\n",
        "print(tab1)\n",
        "\n",
        "print(\"\")\n",
        "\n",
        "print(\"========Proportion (%)=========\")\n",
        "tab2 = pd.DataFrame(np.round(100*df_train_cleaned['branch_code'].value_counts(normalize = True), 0))\n",
        "print(tab2)"
      ],
      "execution_count": null,
      "outputs": [
        {
          "output_type": "stream",
          "text": [
            "========Frequency (n)=========\n",
            "      branch_code\n",
            "748L         8135\n",
            "94KC         3658\n",
            "UAOD         3507\n",
            "E5SW         3185\n",
            "30H5         3151\n",
            "XX25         2805\n",
            "1X1H         1303\n",
            "O67J         1124\n",
            "ZFER          747\n",
            "49BM          621\n",
            "9F9T          429\n",
            "BOAS          347\n",
            "X23B           99\n",
            "O4JC           10\n",
            "EU3L            9\n",
            "\n",
            "========Proportion (%)=========\n",
            "      branch_code\n",
            "748L         28.0\n",
            "94KC         13.0\n",
            "UAOD         12.0\n",
            "E5SW         11.0\n",
            "30H5         11.0\n",
            "XX25         10.0\n",
            "1X1H          4.0\n",
            "O67J          4.0\n",
            "ZFER          3.0\n",
            "49BM          2.0\n",
            "9F9T          1.0\n",
            "BOAS          1.0\n",
            "X23B          0.0\n",
            "O4JC          0.0\n",
            "EU3L          0.0\n"
          ],
          "name": "stdout"
        }
      ]
    },
    {
      "cell_type": "code",
      "metadata": {
        "id": "eK2RIaMarusr",
        "colab_type": "code",
        "colab": {
          "base_uri": "https://localhost:8080/",
          "height": 415
        },
        "outputId": "36635fcf-907e-4bdb-f70d-06a3792c2b50"
      },
      "source": [
        "plt.figure(figsize=(15, 6))\n",
        "ax = sns.barplot(x = tab2.index, y = tab2.branch_code, palette=\"Blues_d\")\n",
        "ax.set_ylim(0, 30)\n",
        "ax.set_ylabel('(%)')\n",
        "ax.set_xlabel('Branch code')"
      ],
      "execution_count": null,
      "outputs": [
        {
          "output_type": "execute_result",
          "data": {
            "text/plain": [
              "Text(0.5, 0, 'Branch code')"
            ]
          },
          "metadata": {
            "tags": []
          },
          "execution_count": 20
        },
        {
          "output_type": "display_data",
          "data": {
            "image/png": "[encoded data removed]",
            "text/plain": [
              "<Figure size 1080x432 with 1 Axes>"
            ]
          },
          "metadata": {
            "tags": []
          }
        }
      ]
    },
    {
      "cell_type": "code",
      "metadata": {
        "id": "ev_DKQczseSb",
        "colab_type": "code",
        "colab": {
          "base_uri": "https://localhost:8080/",
          "height": 306
        },
        "outputId": "793a1c09-1349-49ee-97b3-686e0243af64"
      },
      "source": [
        "##Statistics on occupation_category_code\n",
        "print(\"========Frequency (n)=========\")\n",
        "tab1 = pd.DataFrame(df_train_cleaned['occupation_category_code'].value_counts())\n",
        "print(tab1)\n",
        "\n",
        "print(\"\")\n",
        "\n",
        "print(\"========Proportion (%)=========\")\n",
        "tab2 = pd.DataFrame(np.round(100*df_train_cleaned['occupation_category_code'].value_counts(normalize = True), 0))\n",
        "print(tab2)"
      ],
      "execution_count": null,
      "outputs": [
        {
          "output_type": "stream",
          "text": [
            "========Frequency (n)=========\n",
            "      occupation_category_code\n",
            "T4MS                     18618\n",
            "90QI                      5552\n",
            "56SI                      3655\n",
            "L44T                       627\n",
            "JD7X                       576\n",
            "AHH5                       102\n",
            "\n",
            "========Proportion (%)=========\n",
            "      occupation_category_code\n",
            "T4MS                      64.0\n",
            "90QI                      19.0\n",
            "56SI                      13.0\n",
            "L44T                       2.0\n",
            "JD7X                       2.0\n",
            "AHH5                       0.0\n"
          ],
          "name": "stdout"
        }
      ]
    },
    {
      "cell_type": "code",
      "metadata": {
        "id": "HG1pjqOyeFHZ",
        "colab_type": "code",
        "colab": {
          "base_uri": "https://localhost:8080/",
          "height": 411
        },
        "outputId": "41f7ef7c-ccba-4142-9f8c-c797f9ddf3a6"
      },
      "source": [
        "plt.figure(figsize=(15, 6))\n",
        "ax = sns.barplot(x = tab1.index, y = tab1.occupation_category_code, palette=\"Blues_d\")\n",
        "#ax.set_ylim(0, 70)\n",
        "ax.set_ylabel('Nombre de clients (n)')\n",
        "ax.set_xlabel('Catégories socio-professionelles')"
      ],
      "execution_count": null,
      "outputs": [
        {
          "output_type": "execute_result",
          "data": {
            "text/plain": [
              "Text(0.5, 0, 'Catégories socio-professionelles')"
            ]
          },
          "metadata": {
            "tags": []
          },
          "execution_count": 22
        },
        {
          "output_type": "display_data",
          "data": {
            "image/png": "[encoded data removed]",
            "text/plain": [
              "<Figure size 1080x432 with 1 Axes>"
            ]
          },
          "metadata": {
            "tags": []
          }
        }
      ]
    },
    {
      "cell_type": "code",
      "metadata": {
        "id": "CHAAF5_8s20H",
        "colab_type": "code",
        "colab": {
          "base_uri": "https://localhost:8080/",
          "height": 415
        },
        "outputId": "8cafe58e-921e-4b8c-baeb-a692e6d92635"
      },
      "source": [
        "plt.figure(figsize=(15, 6))\n",
        "ax = sns.barplot(x = tab2.index, y = tab2.occupation_category_code, palette=\"Blues_d\")\n",
        "ax.set_ylim(0, 70)\n",
        "ax.set_ylabel('(%)')\n",
        "ax.set_xlabel('Occupation category code')"
      ],
      "execution_count": null,
      "outputs": [
        {
          "output_type": "execute_result",
          "data": {
            "text/plain": [
              "Text(0.5, 0, 'Occupation category code')"
            ]
          },
          "metadata": {
            "tags": []
          },
          "execution_count": 23
        },
        {
          "output_type": "display_data",
          "data": {
            "image/png": "[encoded data removed]",
            "text/plain": [
              "<Figure size 1080x432 with 1 Axes>"
            ]
          },
          "metadata": {
            "tags": []
          }
        }
      ]
    },
    {
      "cell_type": "code",
      "metadata": {
        "id": "UKWhFLX6tynT",
        "colab_type": "code",
        "colab": {
          "base_uri": "https://localhost:8080/",
          "height": 510
        },
        "outputId": "40d7d617-f44e-41b5-b651-707e00eb4ce9"
      },
      "source": [
        "##Statistics on join_date_month\n",
        "print(\"========Frequency (n)=========\")\n",
        "tab1 = pd.DataFrame(df_train_cleaned['join_date_month'].value_counts())\n",
        "print(tab1)\n",
        "\n",
        "print(\"\")\n",
        "\n",
        "print(\"========Proportion (%)=========\")\n",
        "tab2 = pd.DataFrame(np.round(100*df_train_cleaned['join_date_month'].value_counts(normalize = True), 0))\n",
        "print(tab2)"
      ],
      "execution_count": null,
      "outputs": [
        {
          "output_type": "stream",
          "text": [
            "========Frequency (n)=========\n",
            "    join_date_month\n",
            "5              3838\n",
            "4              3532\n",
            "6              2533\n",
            "12             2491\n",
            "1              2225\n",
            "8              2177\n",
            "10             2096\n",
            "7              2083\n",
            "11             2077\n",
            "9              2073\n",
            "3              2063\n",
            "2              1942\n",
            "\n",
            "========Proportion (%)=========\n",
            "    join_date_month\n",
            "5              13.0\n",
            "4              12.0\n",
            "6               9.0\n",
            "12              9.0\n",
            "1               8.0\n",
            "8               7.0\n",
            "10              7.0\n",
            "7               7.0\n",
            "11              7.0\n",
            "9               7.0\n",
            "3               7.0\n",
            "2               7.0\n"
          ],
          "name": "stdout"
        }
      ]
    },
    {
      "cell_type": "code",
      "metadata": {
        "id": "JlGDgKiKu5cI",
        "colab_type": "code",
        "colab": {
          "base_uri": "https://localhost:8080/",
          "height": 419
        },
        "outputId": "7236aeab-500b-4549-95e2-6e2bcb60a3ae"
      },
      "source": [
        "#Frequences des courses par jour et heure\n",
        "df_tab1 = pd.DataFrame(round(100*pd.crosstab(df_train_cleaned[\"join_date_year\"], df_train_cleaned[\"join_date_month\"]), 0))\n",
        "df_tab1 = pd.DataFrame(df_tab1.stack())\n",
        "\n",
        "#Recuperer les noms des colonnes sur les index \n",
        "df_tab11 = pd.DataFrame(df_tab1.to_records(), columns=df_tab1.index.names + list(df_tab1.columns)) \n",
        "df_tab11['N'] = list(df_tab1[0]) \n",
        "df_tab11 = df_tab11.drop(0, axis = 1)\n",
        "df_tab11"
      ],
      "execution_count": null,
      "outputs": [
        {
          "output_type": "execute_result",
          "data": {
            "text/html": [
              "<div>\n",
              "<style scoped>\n",
              "    .dataframe tbody tr th:only-of-type {\n",
              "        vertical-align: middle;\n",
              "    }\n",
              "\n",
              "    .dataframe tbody tr th {\n",
              "        vertical-align: top;\n",
              "    }\n",
              "\n",
              "    .dataframe thead th {\n",
              "        text-align: right;\n",
              "    }\n",
              "</style>\n",
              "<table border=\"1\" class=\"dataframe\">\n",
              "  <thead>\n",
              "    <tr style=\"text-align: right;\">\n",
              "      <th></th>\n",
              "      <th>join_date_year</th>\n",
              "      <th>join_date_month</th>\n",
              "      <th>N</th>\n",
              "    </tr>\n",
              "  </thead>\n",
              "  <tbody>\n",
              "    <tr>\n",
              "      <th>0</th>\n",
              "      <td>2010</td>\n",
              "      <td>1</td>\n",
              "      <td>0</td>\n",
              "    </tr>\n",
              "    <tr>\n",
              "      <th>1</th>\n",
              "      <td>2010</td>\n",
              "      <td>2</td>\n",
              "      <td>0</td>\n",
              "    </tr>\n",
              "    <tr>\n",
              "      <th>2</th>\n",
              "      <td>2010</td>\n",
              "      <td>3</td>\n",
              "      <td>0</td>\n",
              "    </tr>\n",
              "    <tr>\n",
              "      <th>3</th>\n",
              "      <td>2010</td>\n",
              "      <td>4</td>\n",
              "      <td>0</td>\n",
              "    </tr>\n",
              "    <tr>\n",
              "      <th>4</th>\n",
              "      <td>2010</td>\n",
              "      <td>5</td>\n",
              "      <td>800</td>\n",
              "    </tr>\n",
              "    <tr>\n",
              "      <th>...</th>\n",
              "      <td>...</td>\n",
              "      <td>...</td>\n",
              "      <td>...</td>\n",
              "    </tr>\n",
              "    <tr>\n",
              "      <th>127</th>\n",
              "      <td>2020</td>\n",
              "      <td>8</td>\n",
              "      <td>300</td>\n",
              "    </tr>\n",
              "    <tr>\n",
              "      <th>128</th>\n",
              "      <td>2020</td>\n",
              "      <td>9</td>\n",
              "      <td>0</td>\n",
              "    </tr>\n",
              "    <tr>\n",
              "      <th>129</th>\n",
              "      <td>2020</td>\n",
              "      <td>10</td>\n",
              "      <td>0</td>\n",
              "    </tr>\n",
              "    <tr>\n",
              "      <th>130</th>\n",
              "      <td>2020</td>\n",
              "      <td>11</td>\n",
              "      <td>0</td>\n",
              "    </tr>\n",
              "    <tr>\n",
              "      <th>131</th>\n",
              "      <td>2020</td>\n",
              "      <td>12</td>\n",
              "      <td>0</td>\n",
              "    </tr>\n",
              "  </tbody>\n",
              "</table>\n",
              "<p>132 rows × 3 columns</p>\n",
              "</div>"
            ],
            "text/plain": [
              "     join_date_year  join_date_month    N\n",
              "0              2010                1    0\n",
              "1              2010                2    0\n",
              "2              2010                3    0\n",
              "3              2010                4    0\n",
              "4              2010                5  800\n",
              "..              ...              ...  ...\n",
              "127            2020                8  300\n",
              "128            2020                9    0\n",
              "129            2020               10    0\n",
              "130            2020               11    0\n",
              "131            2020               12    0\n",
              "\n",
              "[132 rows x 3 columns]"
            ]
          },
          "metadata": {
            "tags": []
          },
          "execution_count": 25
        }
      ]
    },
    {
      "cell_type": "code",
      "metadata": {
        "id": "J9zlCWE-vqs_",
        "colab_type": "code",
        "colab": {
          "base_uri": "https://localhost:8080/",
          "height": 687
        },
        "outputId": "a3c4a887-e1a4-4ab4-9630-10bf048bfabd"
      },
      "source": [
        "plt.figure(figsize=(100, 80))\n",
        "g = sns.FacetGrid(data = df_tab11, col=\"join_date_year\", col_wrap= 4, margin_titles=True)\n",
        "g.map(sns.barplot, \"join_date_month\", \"N\")"
      ],
      "execution_count": null,
      "outputs": [
        {
          "output_type": "execute_result",
          "data": {
            "text/plain": [
              "<seaborn.axisgrid.FacetGrid at 0x7f914513fa20>"
            ]
          },
          "metadata": {
            "tags": []
          },
          "execution_count": 26
        },
        {
          "output_type": "display_data",
          "data": {
            "text/plain": [
              "<Figure size 7200x5760 with 0 Axes>"
            ]
          },
          "metadata": {
            "tags": []
          }
        },
        {
          "output_type": "display_data",
          "data": {
            "image/png": "[encoded data removed]",
            "text/plain": [
              "<Figure size 864x648 with 11 Axes>"
            ]
          },
          "metadata": {
            "tags": []
          }
        }
      ]
    },
    {
      "cell_type": "code",
      "metadata": {
        "id": "xUpwTtPi5LM2",
        "colab_type": "code",
        "colab": {
          "base_uri": "https://localhost:8080/",
          "height": 54
        },
        "outputId": "a2889177-f07b-4b93-af7f-ddf405cb23c4"
      },
      "source": [
        "# Describe the target (product code)\n",
        "product_code = list(df_train_cleaned.columns.values)\n",
        "product_code = product_code[8:29]\n",
        "print(product_code)"
      ],
      "execution_count": null,
      "outputs": [
        {
          "output_type": "stream",
          "text": [
            "['P5DA', 'RIBP', '8NN1', '7POT', '66FJ', 'GYSR', 'SOP4', 'RVSZ', 'PYUQ', 'LJR9', 'N2MW', 'AHXO', 'BSTQ', 'FM3X', 'K6QO', 'QBOL', 'JWFN', 'JZ9D', 'J9JW', 'GHYX', 'ECY3']\n"
          ],
          "name": "stdout"
        }
      ]
    },
    {
      "cell_type": "code",
      "metadata": {
        "id": "bJFFhHlK6fEB",
        "colab_type": "code",
        "colab": {
          "base_uri": "https://localhost:8080/",
          "height": 700
        },
        "outputId": "de3ca861-4d67-40cb-b651-9974d9110897"
      },
      "source": [
        "# Calculating number of products in each product code\n",
        "\n",
        "counts = []\n",
        "for prod in product_code:\n",
        "    counts.append((prod, df_train_cleaned[prod].sum()))\n",
        "\n",
        "df_product = pd.DataFrame(counts, columns=['Product_code', 'number of products'])\n",
        "df_product = df_product.sort_values(by = ['number of products'], ascending= False)\n",
        "df_product "
      ],
      "execution_count": null,
      "outputs": [
        {
          "output_type": "execute_result",
          "data": {
            "text/html": [
              "<div>\n",
              "<style scoped>\n",
              "    .dataframe tbody tr th:only-of-type {\n",
              "        vertical-align: middle;\n",
              "    }\n",
              "\n",
              "    .dataframe tbody tr th {\n",
              "        vertical-align: top;\n",
              "    }\n",
              "\n",
              "    .dataframe thead th {\n",
              "        text-align: right;\n",
              "    }\n",
              "</style>\n",
              "<table border=\"1\" class=\"dataframe\">\n",
              "  <thead>\n",
              "    <tr style=\"text-align: right;\">\n",
              "      <th></th>\n",
              "      <th>Product_code</th>\n",
              "      <th>number of products</th>\n",
              "    </tr>\n",
              "  </thead>\n",
              "  <tbody>\n",
              "    <tr>\n",
              "      <th>7</th>\n",
              "      <td>RVSZ</td>\n",
              "      <td>25327</td>\n",
              "    </tr>\n",
              "    <tr>\n",
              "      <th>14</th>\n",
              "      <td>K6QO</td>\n",
              "      <td>21628</td>\n",
              "    </tr>\n",
              "    <tr>\n",
              "      <th>15</th>\n",
              "      <td>QBOL</td>\n",
              "      <td>6832</td>\n",
              "    </tr>\n",
              "    <tr>\n",
              "      <th>8</th>\n",
              "      <td>PYUQ</td>\n",
              "      <td>2173</td>\n",
              "    </tr>\n",
              "    <tr>\n",
              "      <th>1</th>\n",
              "      <td>RIBP</td>\n",
              "      <td>1779</td>\n",
              "    </tr>\n",
              "    <tr>\n",
              "      <th>17</th>\n",
              "      <td>JZ9D</td>\n",
              "      <td>1425</td>\n",
              "    </tr>\n",
              "    <tr>\n",
              "      <th>18</th>\n",
              "      <td>J9JW</td>\n",
              "      <td>1418</td>\n",
              "    </tr>\n",
              "    <tr>\n",
              "      <th>20</th>\n",
              "      <td>ECY3</td>\n",
              "      <td>1100</td>\n",
              "    </tr>\n",
              "    <tr>\n",
              "      <th>19</th>\n",
              "      <td>GHYX</td>\n",
              "      <td>902</td>\n",
              "    </tr>\n",
              "    <tr>\n",
              "      <th>10</th>\n",
              "      <td>N2MW</td>\n",
              "      <td>838</td>\n",
              "    </tr>\n",
              "    <tr>\n",
              "      <th>11</th>\n",
              "      <td>AHXO</td>\n",
              "      <td>539</td>\n",
              "    </tr>\n",
              "    <tr>\n",
              "      <th>6</th>\n",
              "      <td>SOP4</td>\n",
              "      <td>431</td>\n",
              "    </tr>\n",
              "    <tr>\n",
              "      <th>9</th>\n",
              "      <td>LJR9</td>\n",
              "      <td>354</td>\n",
              "    </tr>\n",
              "    <tr>\n",
              "      <th>4</th>\n",
              "      <td>66FJ</td>\n",
              "      <td>339</td>\n",
              "    </tr>\n",
              "    <tr>\n",
              "      <th>12</th>\n",
              "      <td>BSTQ</td>\n",
              "      <td>324</td>\n",
              "    </tr>\n",
              "    <tr>\n",
              "      <th>3</th>\n",
              "      <td>7POT</td>\n",
              "      <td>316</td>\n",
              "    </tr>\n",
              "    <tr>\n",
              "      <th>16</th>\n",
              "      <td>JWFN</td>\n",
              "      <td>310</td>\n",
              "    </tr>\n",
              "    <tr>\n",
              "      <th>2</th>\n",
              "      <td>8NN1</td>\n",
              "      <td>157</td>\n",
              "    </tr>\n",
              "    <tr>\n",
              "      <th>13</th>\n",
              "      <td>FM3X</td>\n",
              "      <td>110</td>\n",
              "    </tr>\n",
              "    <tr>\n",
              "      <th>0</th>\n",
              "      <td>P5DA</td>\n",
              "      <td>40</td>\n",
              "    </tr>\n",
              "    <tr>\n",
              "      <th>5</th>\n",
              "      <td>GYSR</td>\n",
              "      <td>4</td>\n",
              "    </tr>\n",
              "  </tbody>\n",
              "</table>\n",
              "</div>"
            ],
            "text/plain": [
              "   Product_code  number of products\n",
              "7          RVSZ               25327\n",
              "14         K6QO               21628\n",
              "15         QBOL                6832\n",
              "8          PYUQ                2173\n",
              "1          RIBP                1779\n",
              "17         JZ9D                1425\n",
              "18         J9JW                1418\n",
              "20         ECY3                1100\n",
              "19         GHYX                 902\n",
              "10         N2MW                 838\n",
              "11         AHXO                 539\n",
              "6          SOP4                 431\n",
              "9          LJR9                 354\n",
              "4          66FJ                 339\n",
              "12         BSTQ                 324\n",
              "3          7POT                 316\n",
              "16         JWFN                 310\n",
              "2          8NN1                 157\n",
              "13         FM3X                 110\n",
              "0          P5DA                  40\n",
              "5          GYSR                   4"
            ]
          },
          "metadata": {
            "tags": []
          },
          "execution_count": 28
        }
      ]
    },
    {
      "cell_type": "code",
      "metadata": {
        "id": "QbAhlx9CH6xr",
        "colab_type": "code",
        "colab": {
          "base_uri": "https://localhost:8080/",
          "height": 592
        },
        "outputId": "3e286d47-a671-4b30-fea8-40c6ebcb633c"
      },
      "source": [
        "plt.figure(figsize=(20,12))\n",
        " \n",
        "ax= sns.barplot(x = 'Product_code',  y = 'number of products', data = df_product) \n",
        "\n",
        "plt.ylabel(\"Produits d'assurance souscrits (n)\", fontsize=18)\n",
        "plt.xlabel('Code produit assurance ', fontsize=18)"
      ],
      "execution_count": null,
      "outputs": [
        {
          "output_type": "execute_result",
          "data": {
            "text/plain": [
              "Text(0.5, 0, 'Code produit assurance ')"
            ]
          },
          "metadata": {
            "tags": []
          },
          "execution_count": 29
        },
        {
          "output_type": "display_data",
          "data": {
            "image/png": "[encoded data removed]",
            "text/plain": [
              "<Figure size 1440x864 with 1 Axes>"
            ]
          },
          "metadata": {
            "tags": []
          }
        }
      ]
    },
    {
      "cell_type": "code",
      "metadata": {
        "id": "uSQWaXK17XvJ",
        "colab_type": "code",
        "colab": {
          "base_uri": "https://localhost:8080/",
          "height": 507
        },
        "outputId": "d7a4890e-1d92-4475-9352-fd9ca7d6a8fd"
      },
      "source": [
        "##Calculating number of customers having multiple labels\n",
        "\n",
        "rowSums = df_train_cleaned.iloc[:, 8:29].sum(axis=1)\n",
        "multiLabel_counts = rowSums.value_counts()\n",
        "#multiLabel_counts = multiLabel_counts.iloc[1:]\n",
        "\n",
        "plt.figure(figsize=(15,8))\n",
        "\n",
        "ax = sns.barplot(multiLabel_counts.index, multiLabel_counts.values)\n",
        "\n",
        "plt.ylabel('Nombre de clients (n)', fontsize=18)\n",
        "plt.xlabel(\"Nombre de produits d'assurance multiples souscrits\", fontsize=18)\n",
        "\n",
        "#adding the text labels\n",
        "rects = ax.patches\n",
        "labels = multiLabel_counts.values\n",
        "for rect, label in zip(rects, labels):\n",
        "    height = rect.get_height()\n",
        "    ax.text(rect.get_x() + rect.get_width()/2, height + 5, label, ha='center', va='bottom')\n",
        "\n",
        "plt.show()"
      ],
      "execution_count": null,
      "outputs": [
        {
          "output_type": "display_data",
          "data": {
            "image/png": "[encoded data removed]",
            "text/plain": [
              "<Figure size 1080x576 with 1 Axes>"
            ]
          },
          "metadata": {
            "tags": []
          }
        }
      ]
    },
    {
      "cell_type": "markdown",
      "metadata": {
        "id": "XjfdFZ0HxpFh",
        "colab_type": "text"
      },
      "source": [
        "# Bivariate analysis"
      ]
    },
    {
      "cell_type": "code",
      "metadata": {
        "id": "kqu_kd7Gn3Zo",
        "colab_type": "code",
        "colab": {
          "base_uri": "https://localhost:8080/",
          "height": 272
        },
        "outputId": "f82cc3a1-0a10-485b-b8ed-fc7fd97ee452"
      },
      "source": [
        "#Cross table between target product (RVSZ, K6QO, QBOL) and features\n",
        "df_train_cleaned_feature = df_train_cleaned.iloc[:, 1:8]\n",
        "print(df_train_cleaned_feature.columns)\n",
        "\n",
        "df_train_cleaned_target = df_train_cleaned.loc[:, ['RVSZ', 'K6QO', 'QBOL']]\n",
        "print(df_train_cleaned_target.columns)\n",
        "\n",
        "df_train_cleaned_sub =  pd.concat([df_train_cleaned_feature, df_train_cleaned_target], axis = 1)\n",
        "df_train_cleaned_sub.head()\n"
      ],
      "execution_count": null,
      "outputs": [
        {
          "output_type": "stream",
          "text": [
            "Index(['join_date', 'sex', 'marital_status', 'birth_year', 'branch_code',\n",
            "       'occupation_code', 'occupation_category_code'],\n",
            "      dtype='object')\n",
            "Index(['RVSZ', 'K6QO', 'QBOL'], dtype='object')\n"
          ],
          "name": "stdout"
        },
        {
          "output_type": "execute_result",
          "data": {
            "text/html": [
              "<div>\n",
              "<style scoped>\n",
              "    .dataframe tbody tr th:only-of-type {\n",
              "        vertical-align: middle;\n",
              "    }\n",
              "\n",
              "    .dataframe tbody tr th {\n",
              "        vertical-align: top;\n",
              "    }\n",
              "\n",
              "    .dataframe thead th {\n",
              "        text-align: right;\n",
              "    }\n",
              "</style>\n",
              "<table border=\"1\" class=\"dataframe\">\n",
              "  <thead>\n",
              "    <tr style=\"text-align: right;\">\n",
              "      <th></th>\n",
              "      <th>join_date</th>\n",
              "      <th>sex</th>\n",
              "      <th>marital_status</th>\n",
              "      <th>birth_year</th>\n",
              "      <th>branch_code</th>\n",
              "      <th>occupation_code</th>\n",
              "      <th>occupation_category_code</th>\n",
              "      <th>RVSZ</th>\n",
              "      <th>K6QO</th>\n",
              "      <th>QBOL</th>\n",
              "    </tr>\n",
              "  </thead>\n",
              "  <tbody>\n",
              "    <tr>\n",
              "      <th>0</th>\n",
              "      <td>2019-02-01</td>\n",
              "      <td>F</td>\n",
              "      <td>M</td>\n",
              "      <td>1987</td>\n",
              "      <td>1X1H</td>\n",
              "      <td>2A7I</td>\n",
              "      <td>T4MS</td>\n",
              "      <td>1</td>\n",
              "      <td>1</td>\n",
              "      <td>0</td>\n",
              "    </tr>\n",
              "    <tr>\n",
              "      <th>1</th>\n",
              "      <td>2019-06-01</td>\n",
              "      <td>F</td>\n",
              "      <td>M</td>\n",
              "      <td>1981</td>\n",
              "      <td>UAOD</td>\n",
              "      <td>2A7I</td>\n",
              "      <td>T4MS</td>\n",
              "      <td>1</td>\n",
              "      <td>1</td>\n",
              "      <td>0</td>\n",
              "    </tr>\n",
              "    <tr>\n",
              "      <th>2</th>\n",
              "      <td>2013-06-01</td>\n",
              "      <td>M</td>\n",
              "      <td>U</td>\n",
              "      <td>1991</td>\n",
              "      <td>748L</td>\n",
              "      <td>QZYX</td>\n",
              "      <td>90QI</td>\n",
              "      <td>1</td>\n",
              "      <td>0</td>\n",
              "      <td>0</td>\n",
              "    </tr>\n",
              "    <tr>\n",
              "      <th>3</th>\n",
              "      <td>2019-08-01</td>\n",
              "      <td>M</td>\n",
              "      <td>M</td>\n",
              "      <td>1990</td>\n",
              "      <td>1X1H</td>\n",
              "      <td>BP09</td>\n",
              "      <td>56SI</td>\n",
              "      <td>1</td>\n",
              "      <td>1</td>\n",
              "      <td>0</td>\n",
              "    </tr>\n",
              "    <tr>\n",
              "      <th>4</th>\n",
              "      <td>2019-08-01</td>\n",
              "      <td>M</td>\n",
              "      <td>M</td>\n",
              "      <td>1990</td>\n",
              "      <td>748L</td>\n",
              "      <td>NO3L</td>\n",
              "      <td>T4MS</td>\n",
              "      <td>0</td>\n",
              "      <td>0</td>\n",
              "      <td>0</td>\n",
              "    </tr>\n",
              "  </tbody>\n",
              "</table>\n",
              "</div>"
            ],
            "text/plain": [
              "   join_date sex marital_status  ...  RVSZ K6QO QBOL\n",
              "0 2019-02-01   F              M  ...     1    1    0\n",
              "1 2019-06-01   F              M  ...     1    1    0\n",
              "2 2013-06-01   M              U  ...     1    0    0\n",
              "3 2019-08-01   M              M  ...     1    1    0\n",
              "4 2019-08-01   M              M  ...     0    0    0\n",
              "\n",
              "[5 rows x 10 columns]"
            ]
          },
          "metadata": {
            "tags": []
          },
          "execution_count": 31
        }
      ]
    },
    {
      "cell_type": "code",
      "metadata": {
        "id": "b2ZlScMtaj3l",
        "colab_type": "code",
        "colab": {
          "base_uri": "https://localhost:8080/",
          "height": 309
        },
        "outputId": "a3922e24-e133-4866-bde9-04d416cfaf94"
      },
      "source": [
        "##Reshaping dataframe 'df_train_cleaned_sub'\n",
        "df_train_cleaned_sub1 = pd.melt(df_train_cleaned_sub, \n",
        "                                id_vars = df_train_cleaned_feature.columns,\n",
        "                                var_name = 'Product_code',\n",
        "                                value_name = 'Subscribed')\n",
        "df_train_cleaned_sub1.head()"
      ],
      "execution_count": null,
      "outputs": [
        {
          "output_type": "execute_result",
          "data": {
            "text/html": [
              "<div>\n",
              "<style scoped>\n",
              "    .dataframe tbody tr th:only-of-type {\n",
              "        vertical-align: middle;\n",
              "    }\n",
              "\n",
              "    .dataframe tbody tr th {\n",
              "        vertical-align: top;\n",
              "    }\n",
              "\n",
              "    .dataframe thead th {\n",
              "        text-align: right;\n",
              "    }\n",
              "</style>\n",
              "<table border=\"1\" class=\"dataframe\">\n",
              "  <thead>\n",
              "    <tr style=\"text-align: right;\">\n",
              "      <th></th>\n",
              "      <th>join_date</th>\n",
              "      <th>sex</th>\n",
              "      <th>marital_status</th>\n",
              "      <th>birth_year</th>\n",
              "      <th>branch_code</th>\n",
              "      <th>occupation_code</th>\n",
              "      <th>occupation_category_code</th>\n",
              "      <th>Product_code</th>\n",
              "      <th>Subscribed</th>\n",
              "    </tr>\n",
              "  </thead>\n",
              "  <tbody>\n",
              "    <tr>\n",
              "      <th>0</th>\n",
              "      <td>2019-02-01</td>\n",
              "      <td>F</td>\n",
              "      <td>M</td>\n",
              "      <td>1987</td>\n",
              "      <td>1X1H</td>\n",
              "      <td>2A7I</td>\n",
              "      <td>T4MS</td>\n",
              "      <td>RVSZ</td>\n",
              "      <td>1</td>\n",
              "    </tr>\n",
              "    <tr>\n",
              "      <th>1</th>\n",
              "      <td>2019-06-01</td>\n",
              "      <td>F</td>\n",
              "      <td>M</td>\n",
              "      <td>1981</td>\n",
              "      <td>UAOD</td>\n",
              "      <td>2A7I</td>\n",
              "      <td>T4MS</td>\n",
              "      <td>RVSZ</td>\n",
              "      <td>1</td>\n",
              "    </tr>\n",
              "    <tr>\n",
              "      <th>2</th>\n",
              "      <td>2013-06-01</td>\n",
              "      <td>M</td>\n",
              "      <td>U</td>\n",
              "      <td>1991</td>\n",
              "      <td>748L</td>\n",
              "      <td>QZYX</td>\n",
              "      <td>90QI</td>\n",
              "      <td>RVSZ</td>\n",
              "      <td>1</td>\n",
              "    </tr>\n",
              "    <tr>\n",
              "      <th>3</th>\n",
              "      <td>2019-08-01</td>\n",
              "      <td>M</td>\n",
              "      <td>M</td>\n",
              "      <td>1990</td>\n",
              "      <td>1X1H</td>\n",
              "      <td>BP09</td>\n",
              "      <td>56SI</td>\n",
              "      <td>RVSZ</td>\n",
              "      <td>1</td>\n",
              "    </tr>\n",
              "    <tr>\n",
              "      <th>4</th>\n",
              "      <td>2019-08-01</td>\n",
              "      <td>M</td>\n",
              "      <td>M</td>\n",
              "      <td>1990</td>\n",
              "      <td>748L</td>\n",
              "      <td>NO3L</td>\n",
              "      <td>T4MS</td>\n",
              "      <td>RVSZ</td>\n",
              "      <td>0</td>\n",
              "    </tr>\n",
              "  </tbody>\n",
              "</table>\n",
              "</div>"
            ],
            "text/plain": [
              "   join_date sex  ... Product_code  Subscribed\n",
              "0 2019-02-01   F  ...         RVSZ           1\n",
              "1 2019-06-01   F  ...         RVSZ           1\n",
              "2 2013-06-01   M  ...         RVSZ           1\n",
              "3 2019-08-01   M  ...         RVSZ           1\n",
              "4 2019-08-01   M  ...         RVSZ           0\n",
              "\n",
              "[5 rows x 9 columns]"
            ]
          },
          "metadata": {
            "tags": []
          },
          "execution_count": 32
        }
      ]
    },
    {
      "cell_type": "code",
      "metadata": {
        "id": "id2yXfY6Y3mO",
        "colab_type": "code",
        "colab": {
          "base_uri": "https://localhost:8080/",
          "height": 302
        },
        "outputId": "b62d69e0-003a-4a06-8bce-e6de0e82dd99"
      },
      "source": [
        "## Sex by Product\n",
        "df_sex_by_product = df_train_cleaned_sub1.groupby(['sex', 'Product_code'], as_index=False)['Subscribed'].sum()\n",
        "\n",
        "ax = sns.barplot(x=\"Product_code\", y=\"Subscribed\", hue=\"sex\", data = df_sex_by_product)\n",
        "plt.ylabel('Nombre de produits souscrits')\n",
        "plt.xlabel('Code Produit')"
      ],
      "execution_count": null,
      "outputs": [
        {
          "output_type": "execute_result",
          "data": {
            "text/plain": [
              "Text(0.5, 0, 'Code Produit')"
            ]
          },
          "metadata": {
            "tags": []
          },
          "execution_count": 33
        },
        {
          "output_type": "display_data",
          "data": {
            "image/png": "[encoded data removed]",
            "text/plain": [
              "<Figure size 432x288 with 1 Axes>"
            ]
          },
          "metadata": {
            "tags": []
          }
        }
      ]
    },
    {
      "cell_type": "code",
      "metadata": {
        "id": "l84Zu4O4YS_T",
        "colab_type": "code",
        "colab": {
          "base_uri": "https://localhost:8080/",
          "height": 519
        },
        "outputId": "1e52b14e-446c-420d-f6a5-abe75a573bb4"
      },
      "source": [
        "## Marital status by Product\n",
        "df_marital_status_by_product = df_train_cleaned_sub1.groupby(['marital_status', 'Product_code'], \n",
        "                                                             as_index=False)['Subscribed'].sum()\n",
        "\n",
        "df_marital_status_by_product = df_marital_status_by_product.sort_values(['Product_code', 'Subscribed'], ascending= False) \n",
        "                                                        \n",
        "plt.figure(figsize=(15,8))\n",
        "ax = sns.barplot(x=\"Product_code\", y=\"Subscribed\", hue=\"marital_status\", data = df_marital_status_by_product)\n",
        "plt.ylabel('Nombre de produits souscrits')\n",
        "plt.xlabel('Code Produit')"
      ],
      "execution_count": null,
      "outputs": [
        {
          "output_type": "execute_result",
          "data": {
            "text/plain": [
              "Text(0.5, 0, 'Code Produit')"
            ]
          },
          "metadata": {
            "tags": []
          },
          "execution_count": 34
        },
        {
          "output_type": "display_data",
          "data": {
            "image/png": "[encoded data removed]",
            "text/plain": [
              "<Figure size 1080x576 with 1 Axes>"
            ]
          },
          "metadata": {
            "tags": []
          }
        }
      ]
    },
    {
      "cell_type": "code",
      "metadata": {
        "id": "Dou1wcSeYkwX",
        "colab_type": "code",
        "colab": {
          "base_uri": "https://localhost:8080/",
          "height": 519
        },
        "outputId": "fd9b9f37-33d6-4c5c-bea7-7cd6ecb2d85f"
      },
      "source": [
        "## occupation_category_code by Product\n",
        "df_occupation_category_code_by_product = df_train_cleaned_sub1.groupby(['occupation_category_code', 'Product_code'],\n",
        "                                                                       as_index=False)['Subscribed'].sum()\n",
        "\n",
        "df_occupation_category_code_by_product = df_occupation_category_code_by_product.sort_values(['Product_code', \n",
        "                                                                                              'Subscribed'], ascending= False) \n",
        "\n",
        "plt.figure(figsize=(15,8))\n",
        "ax = sns.barplot(x=\"Product_code\", y=\"Subscribed\", hue=\"occupation_category_code\",\n",
        "                 data = df_occupation_category_code_by_product)\n",
        "plt.ylabel('Nombre de produits souscrits')\n",
        "plt.xlabel('Code Produit')"
      ],
      "execution_count": null,
      "outputs": [
        {
          "output_type": "execute_result",
          "data": {
            "text/plain": [
              "Text(0.5, 0, 'Code Produit')"
            ]
          },
          "metadata": {
            "tags": []
          },
          "execution_count": 35
        },
        {
          "output_type": "display_data",
          "data": {
            "image/png": "[encoded data removed]",
            "text/plain": [
              "<Figure size 1080x576 with 1 Axes>"
            ]
          },
          "metadata": {
            "tags": []
          }
        }
      ]
    },
    {
      "cell_type": "code",
      "metadata": {
        "id": "6LsCCLcVYAul",
        "colab_type": "code",
        "colab": {
          "base_uri": "https://localhost:8080/",
          "height": 519
        },
        "outputId": "697746de-0a0b-40eb-855b-4936571404d3"
      },
      "source": [
        "## branch_code by Product\n",
        "df_branch_code_by_product = df_train_cleaned_sub1.groupby(['branch_code', 'Product_code'], \n",
        "                                                          as_index=False)['Subscribed'].sum()\n",
        "\n",
        "df_branch_code_by_product = df_branch_code_by_product.sort_values(['Product_code', 'Subscribed'], ascending= False)                                    \n",
        "\n",
        "plt.figure(figsize=(15,8))\n",
        "ax = sns.barplot(x=\"Product_code\", y=\"Subscribed\", hue=\"branch_code\",\n",
        "                 data = df_branch_code_by_product)\n",
        "plt.ylabel('Nombre de produits souscrits')\n",
        "plt.xlabel('Code Produit')"
      ],
      "execution_count": null,
      "outputs": [
        {
          "output_type": "execute_result",
          "data": {
            "text/plain": [
              "Text(0.5, 0, 'Code Produit')"
            ]
          },
          "metadata": {
            "tags": []
          },
          "execution_count": 36
        },
        {
          "output_type": "display_data",
          "data": {
            "image/png": "[encoded data removed]",
            "text/plain": [
              "<Figure size 1080x576 with 1 Axes>"
            ]
          },
          "metadata": {
            "tags": []
          }
        }
      ]
    },
    {
      "cell_type": "markdown",
      "metadata": {
        "id": "Irr0OJ7AiulB",
        "colab_type": "text"
      },
      "source": [
        "# Machine learning"
      ]
    },
    {
      "cell_type": "markdown",
      "metadata": {
        "id": "68pvc1wyjDeW",
        "colab_type": "text"
      },
      "source": [
        "## Preprocessing"
      ]
    },
    {
      "cell_type": "code",
      "metadata": {
        "id": "A9Y-SgD-jCFL",
        "colab_type": "code",
        "colab": {
          "base_uri": "https://localhost:8080/",
          "height": 34
        },
        "outputId": "4c26d785-9fbf-4fe5-de3e-74da27473944"
      },
      "source": [
        "##Merging two datasets\n",
        "df_train_add = df_train\n",
        "df_test_add = df_test\n",
        "\n",
        "##Add the new column\n",
        "df_train_add['dataset_type'] = 'Train'\n",
        "df_test_add['dataset_type'] = 'Test'\n",
        "\n",
        "df_merged = pd.concat([df_train_add, df_test_add], axis = 0)\n",
        "\n",
        "print(df_merged.shape)"
      ],
      "execution_count": null,
      "outputs": [
        {
          "output_type": "stream",
          "text": [
            "(39132, 30)\n"
          ],
          "name": "stdout"
        }
      ]
    },
    {
      "cell_type": "code",
      "metadata": {
        "id": "MJk4RuOGFCmX",
        "colab_type": "code",
        "colab": {}
      },
      "source": [
        "#conversion join_date in format date time\n",
        "df_merged['join_date'] = pd.to_datetime(df_merged['join_date'], format = '%d/%m/%Y')\n",
        "\n",
        "# Year of join date\n",
        "df_merged[\"join_date_year\"] = df_merged['join_date'].dt.year\n",
        "\n",
        "# Age of customer when joined the zinmat\n",
        "df_merged[\"Age\"] = df_merged[\"join_date_year\"] - df_merged[\"birth_year\"]"
      ],
      "execution_count": null,
      "outputs": []
    },
    {
      "cell_type": "code",
      "metadata": {
        "id": "cbq2hizdH4tg",
        "colab_type": "code",
        "colab": {}
      },
      "source": [
        "# Modify the categories of marital_status\n",
        "mask1 = df_merged['marital_status'] != 'M'\n",
        "df_merged.loc[mask1, 'marital_status'] = 'No_M'"
      ],
      "execution_count": null,
      "outputs": []
    },
    {
      "cell_type": "code",
      "metadata": {
        "id": "0F-0o4CHGQZV",
        "colab_type": "code",
        "colab": {
          "base_uri": "https://localhost:8080/",
          "height": 68
        },
        "outputId": "b300727e-58b6-4ecd-b517-0f92a6dbdf10"
      },
      "source": [
        "print('Dropping outliers in Age...')\n",
        "to_keep = df_merged['Age'] < df_merged['Age'].mean() + 2*df_merged['Age'].std()\n",
        "df_merged = df_merged.loc[to_keep,:]\n",
        "print('Done. Number of lines remaining : ', df_merged.shape[0])\n",
        "print()"
      ],
      "execution_count": null,
      "outputs": [
        {
          "output_type": "stream",
          "text": [
            "Dropping outliers in Age...\n",
            "Done. Number of lines remaining :  37955\n",
            "\n"
          ],
          "name": "stdout"
        }
      ]
    },
    {
      "cell_type": "code",
      "metadata": {
        "id": "j8QTPT3eP9V5",
        "colab_type": "code",
        "colab": {}
      },
      "source": [
        "# Separate target variable Y from features X\n",
        "target_name = ['P5DA', 'RIBP', '8NN1', '7POT', '66FJ', 'GYSR', 'SOP4', 'RVSZ', 'PYUQ', 'LJR9', 'N2MW', 'AHXO',\n",
        "            'BSTQ', 'FM3X', 'K6QO', 'QBOL', 'JWFN', 'JZ9D', 'J9JW', 'GHYX', 'ECY3']\n",
        "\n",
        "feature_name = ['sex', 'marital_status', 'branch_code', 'occupation_category_code']  \n",
        "\n",
        "#Y = df_merged.loc[:, target_name + ['dataset_type']]\n",
        "#X = df_merged.loc[:, feature_name + ['dataset_type']]"
      ],
      "execution_count": null,
      "outputs": []
    },
    {
      "cell_type": "code",
      "metadata": {
        "id": "4hC1NB6kzGUn",
        "colab_type": "code",
        "colab": {}
      },
      "source": [
        "train, test = train_test_split(df_merged.loc[df_merged['dataset_type'] == 'Train', ], \n",
        "                                             random_state=42, test_size=0.30, shuffle=True)"
      ],
      "execution_count": null,
      "outputs": []
    },
    {
      "cell_type": "code",
      "metadata": {
        "id": "M6J9idgOPtfQ",
        "colab_type": "code",
        "colab": {
          "base_uri": "https://localhost:8080/",
          "height": 51
        },
        "outputId": "c32d76bb-cdaf-4102-e35f-7c8e1560dc2a"
      },
      "source": [
        "print(train.shape)\n",
        "print(test.shape)"
      ],
      "execution_count": null,
      "outputs": [
        {
          "output_type": "stream",
          "text": [
            "(19786, 32)\n",
            "(8481, 32)\n"
          ],
          "name": "stdout"
        }
      ]
    },
    {
      "cell_type": "code",
      "metadata": {
        "id": "6aE0SPV6asWy",
        "colab_type": "code",
        "colab": {
          "base_uri": "https://localhost:8080/",
          "height": 102
        },
        "outputId": "320d63d6-6e70-4a86-ba69-733a9e9fe063"
      },
      "source": [
        "# Split dataset into train set & test set \n",
        "Y_train = train.loc[:, target_name]\n",
        "X_train = train.loc[:, feature_name]\n",
        "print('Y_train:', Y_train.shape)\n",
        "print('X_train:', X_train.shape)\n",
        "\n",
        "print(\"=========================\")\n",
        "\n",
        "Y_test = test.loc[:, target_name]\n",
        "X_test = test.loc[:, feature_name]\n",
        "print('Y_test:', Y_test.shape)\n",
        "print('X_test:', X_test.shape)"
      ],
      "execution_count": null,
      "outputs": [
        {
          "output_type": "stream",
          "text": [
            "Y_train: (19786, 21)\n",
            "X_train: (19786, 4)\n",
            "=========================\n",
            "Y_test: (8481, 21)\n",
            "X_test: (8481, 4)\n"
          ],
          "name": "stdout"
        }
      ]
    },
    {
      "cell_type": "code",
      "metadata": {
        "id": "R3EB6izEc1pH",
        "colab_type": "code",
        "colab": {}
      },
      "source": [
        "# Create pipeline for numeric features\n",
        "#numeric_features = [1] # Positions of numeric columns in X_train/X_test\n",
        "#numeric_transformer = Pipeline(steps=[\n",
        "#    ('imputer', SimpleImputer(strategy='median')),\n",
        "#   ('scaler', StandardScaler())\n",
        "#])\n"
      ],
      "execution_count": null,
      "outputs": []
    },
    {
      "cell_type": "code",
      "metadata": {
        "id": "ZU5NzqjphpXY",
        "colab_type": "code",
        "colab": {}
      },
      "source": [
        "# Create pipeline for categorical features\n",
        "categorical_features = [0, 1, 2, 3] # Positions of categorical columns in X_train/X_test\n",
        "categorical_transformer = Pipeline(\n",
        "    steps=[('imputer', SimpleImputer(strategy='most_frequent')),\n",
        "           ('encoder', OneHotEncoder(drop='first')) # first column will be dropped to avoid creating correlations between features\n",
        "    ])"
      ],
      "execution_count": null,
      "outputs": []
    },
    {
      "cell_type": "code",
      "metadata": {
        "id": "536QZRuQJQx7",
        "colab_type": "code",
        "colab": {}
      },
      "source": [
        "# Use ColumnTranformer to make a preprocessor object that describes all the treatments to be done\n",
        "preprocessor = ColumnTransformer(\n",
        "    transformers=[('cat', categorical_transformer, categorical_features)\n",
        "    ])"
      ],
      "execution_count": null,
      "outputs": []
    },
    {
      "cell_type": "code",
      "metadata": {
        "id": "22hnW0U6R4xL",
        "colab_type": "code",
        "colab": {}
      },
      "source": [
        "# Preprocessings on train set\n",
        "X_train = preprocessor.fit_transform(X_train)"
      ],
      "execution_count": null,
      "outputs": []
    },
    {
      "cell_type": "code",
      "metadata": {
        "id": "DqZ_uV0qRgAj",
        "colab_type": "code",
        "colab": {
          "base_uri": "https://localhost:8080/",
          "height": 34
        },
        "outputId": "9737cf51-477f-4af3-ff59-a2158e9e840c"
      },
      "source": [
        "# Preprocessings on test set\n",
        "print(\"Performing preprocessings on test set...\")\n",
        "X_test = preprocessor.transform(X_test) "
      ],
      "execution_count": null,
      "outputs": [
        {
          "output_type": "stream",
          "text": [
            "Performing preprocessings on test set...\n"
          ],
          "name": "stdout"
        }
      ]
    },
    {
      "cell_type": "code",
      "metadata": {
        "id": "PiN5-ax6geWY",
        "colab_type": "code",
        "colab": {
          "base_uri": "https://localhost:8080/",
          "height": 136
        },
        "outputId": "a3358fac-2499-46a2-cad4-af0fdbf7c0c2"
      },
      "source": [
        "X_test.toarray()"
      ],
      "execution_count": null,
      "outputs": [
        {
          "output_type": "execute_result",
          "data": {
            "text/plain": [
              "array([[1., 0., 0., ..., 0., 0., 1.],\n",
              "       [1., 0., 0., ..., 0., 0., 0.],\n",
              "       [0., 1., 0., ..., 0., 0., 1.],\n",
              "       ...,\n",
              "       [1., 0., 0., ..., 0., 0., 0.],\n",
              "       [0., 0., 0., ..., 0., 0., 0.],\n",
              "       [1., 0., 0., ..., 0., 0., 0.]])"
            ]
          },
          "metadata": {
            "tags": []
          },
          "execution_count": 50
        }
      ]
    },
    {
      "cell_type": "code",
      "metadata": {
        "id": "89QV1tWYbMbh",
        "colab_type": "code",
        "colab": {
          "base_uri": "https://localhost:8080/",
          "height": 136
        },
        "outputId": "7b6790cf-fb20-4637-e5b4-59e5a87df839"
      },
      "source": [
        "X_train.toarray()"
      ],
      "execution_count": null,
      "outputs": [
        {
          "output_type": "execute_result",
          "data": {
            "text/plain": [
              "array([[1., 1., 0., ..., 0., 0., 1.],\n",
              "       [1., 0., 0., ..., 0., 0., 0.],\n",
              "       [0., 0., 0., ..., 0., 0., 1.],\n",
              "       ...,\n",
              "       [1., 0., 0., ..., 0., 0., 1.],\n",
              "       [0., 1., 0., ..., 0., 0., 1.],\n",
              "       [1., 0., 0., ..., 0., 0., 1.]])"
            ]
          },
          "metadata": {
            "tags": []
          },
          "execution_count": 51
        }
      ]
    },
    {
      "cell_type": "markdown",
      "metadata": {
        "id": "j6h1JHHtUdxd",
        "colab_type": "text"
      },
      "source": [
        "## Multiple Binary Classifications - Binary Relevance"
      ]
    },
    {
      "cell_type": "code",
      "metadata": {
        "id": "vctVCGN7UbmR",
        "colab_type": "code",
        "colab": {
          "base_uri": "https://localhost:8080/",
          "height": 187
        },
        "outputId": "4ec05b8a-5bc0-46c0-d363-e4cc7dda27e6"
      },
      "source": [
        "%%time\n",
        "\n",
        "# initialize binary relevance multi-label classifier\n",
        "# with a logistic regression classifier\n",
        "\n",
        "# Using binary relevance\n",
        "from skmultilearn.problem_transform import BinaryRelevance\n",
        "from sklearn.linear_model import LogisticRegression\n",
        "classifier = BinaryRelevance(\n",
        "    classifier = LogisticRegression(),\n",
        "    require_dense = [False, True]\n",
        ")\n",
        "\n",
        "# train\n",
        "classifier.fit(X_train, Y_train)\n",
        "\n",
        "# predict\n",
        "predictions = classifier.predict(X_test)\n",
        "\n",
        "#Evaluation\n",
        "print(\"Train score : {}\".format(classifier.score(X_train, Y_train)))\n",
        "print(\"Test score = \", accuracy_score(Y_test, predictions))\n",
        "print(\"Precision =\", precision_score(Y_test, predictions, average= \"weighted\"))\n",
        "print(\"Recall = \", recall_score(Y_test, predictions, average= \"weighted\"))\n",
        "print(\"Hamming_loss = \", hamming_loss(Y_test, predictions))\n",
        "print(\"F1 score = \", f1_score(Y_test, predictions, average = \"weighted\"))\n",
        "print(\"\\n\")\n"
      ],
      "execution_count": null,
      "outputs": [
        {
          "output_type": "stream",
          "text": [
            "Train score : 0.561609218639442\n",
            "Test score =  0.562905317769131\n",
            "Precision = 0.6808533608608116\n",
            "Recall =  0.7223657024793388\n",
            "Hamming_loss =  0.04654100763050179\n",
            "F1 score =  0.6716136010206477\n",
            "\n",
            "\n",
            "CPU times: user 3.04 s, sys: 1.89 ms, total: 3.04 s\n",
            "Wall time: 3.07 s\n"
          ],
          "name": "stdout"
        }
      ]
    },
    {
      "cell_type": "code",
      "metadata": {
        "id": "V1gCEC6GjUwg",
        "colab_type": "code",
        "colab": {
          "base_uri": "https://localhost:8080/",
          "height": 187
        },
        "outputId": "3b9a14e7-58c4-4ded-86ec-3d1af8937327"
      },
      "source": [
        "%%time\n",
        "\n",
        "# initialize binary relevance multi-label classifier\n",
        "# with a random forest classifier\n",
        "\n",
        "from skmultilearn.problem_transform import BinaryRelevance\n",
        "from sklearn.ensemble import RandomForestClassifier\n",
        "\n",
        "classifier = BinaryRelevance(\n",
        "    classifier = RandomForestClassifier(),\n",
        "    require_dense = [False, True]\n",
        ")\n",
        "\n",
        "# train\n",
        "classifier.fit(X_train, Y_train)\n",
        "\n",
        "# predict\n",
        "predictions = classifier.predict(X_test)\n",
        "\n",
        "#Evaluation\n",
        "print(\"Train score : {}\".format(classifier.score(X_train, Y_train)))\n",
        "print(\"Test score = \", accuracy_score(Y_test, predictions))\n",
        "print(\"Precision =\", precision_score(Y_test, predictions, average= \"weighted\"))\n",
        "print(\"Recall = \", recall_score(Y_test, predictions, average= \"weighted\"))\n",
        "print(\"Hamming_loss = \", hamming_loss(Y_test, predictions))\n",
        "print(\"F1 score = \", f1_score(Y_test, predictions, average = \"weighted\"))\n",
        "print(\"\\n\")"
      ],
      "execution_count": null,
      "outputs": [
        {
          "output_type": "stream",
          "text": [
            "Train score : 0.5739411705246134\n",
            "Test score =  0.569390402075227\n",
            "Precision = 0.7398630456525621\n",
            "Recall =  0.7213842975206611\n",
            "Hamming_loss =  0.045305753476959705\n",
            "F1 score =  0.6846833734614804\n",
            "\n",
            "\n",
            "CPU times: user 38.5 s, sys: 445 ms, total: 38.9 s\n",
            "Wall time: 39 s\n"
          ],
          "name": "stdout"
        }
      ]
    },
    {
      "cell_type": "code",
      "metadata": {
        "id": "o51bFaHQ95QI",
        "colab_type": "code",
        "colab": {
          "base_uri": "https://localhost:8080/",
          "height": 309
        },
        "outputId": "a18e7bc3-c860-4f9b-f70b-e4ba56f85f8d"
      },
      "source": [
        "from sklearn.model_selection import GridSearchCV\n",
        "\n",
        "# Number of trees in random forest\n",
        "#n_estimators = [int(x) for x in np.linspace(start = 200, stop = 1000, num = 3)]\n",
        "n_estimators =[3, 10, 30, 40]\n",
        "# Number of features to consider at every split\n",
        "max_features = ['auto', 'sqrt']\n",
        "# Maximum number of levels in tree\n",
        "max_depth = [int(x) for x in np.linspace(10, 30, num = 3)]\n",
        "max_depth.append(None)\n",
        "# Minimum number of samples required to split a node\n",
        "min_samples_split = [2, 5, 10]\n",
        "# Minimum number of samples required at each leaf node\n",
        "min_samples_leaf = [1, 2, 4]\n",
        "# Method of selecting samples for training each tree\n",
        "bootstrap = [True, False]\n",
        "# Create the parameters grid\n",
        "\n",
        "parameters = [\n",
        "    {\n",
        "        'classifier': [RandomForestClassifier()],\n",
        "        'classifier__criterion': ['gini', 'entropy'],\n",
        "        'classifier__n_estimators': n_estimators,\n",
        "        'classifier__max_features': max_features,\n",
        "        'classifier__max_depth': max_depth,\n",
        "        'classifier__min_samples_leaf': min_samples_leaf,\n",
        "        'classifier__bootstrap': bootstrap,\n",
        "    },\n",
        "]\n",
        "\n",
        "clf = GridSearchCV(BinaryRelevance(), parameters, scoring='accuracy',\n",
        "                   cv = 3, verbose=2, n_jobs = -1)\n",
        "clf.fit(X_train, Y_train)\n",
        "\n",
        "print (clf.best_params_, clf.best_score_)"
      ],
      "execution_count": null,
      "outputs": [
        {
          "output_type": "stream",
          "text": [
            "Fitting 3 folds for each of 384 candidates, totalling 1152 fits\n"
          ],
          "name": "stdout"
        },
        {
          "output_type": "stream",
          "text": [
            "[Parallel(n_jobs=-1)]: Using backend LokyBackend with 2 concurrent workers.\n",
            "[Parallel(n_jobs=-1)]: Done  37 tasks      | elapsed:  1.1min\n",
            "[Parallel(n_jobs=-1)]: Done 158 tasks      | elapsed:  4.8min\n",
            "[Parallel(n_jobs=-1)]: Done 361 tasks      | elapsed: 11.1min\n",
            "[Parallel(n_jobs=-1)]: Done 644 tasks      | elapsed: 20.2min\n",
            "[Parallel(n_jobs=-1)]: Done 1009 tasks      | elapsed: 33.8min\n",
            "[Parallel(n_jobs=-1)]: Done 1152 out of 1152 | elapsed: 39.4min finished\n"
          ],
          "name": "stderr"
        },
        {
          "output_type": "stream",
          "text": [
            "{'classifier': RandomForestClassifier(bootstrap=False, ccp_alpha=0.0, class_weight=None,\n",
            "                       criterion='entropy', max_depth=10, max_features='sqrt',\n",
            "                       max_leaf_nodes=None, max_samples=None,\n",
            "                       min_impurity_decrease=0.0, min_impurity_split=None,\n",
            "                       min_samples_leaf=2, min_samples_split=2,\n",
            "                       min_weight_fraction_leaf=0.0, n_estimators=30,\n",
            "                       n_jobs=None, oob_score=False, random_state=None,\n",
            "                       verbose=0, warm_start=False), 'classifier__bootstrap': False, 'classifier__criterion': 'entropy', 'classifier__max_depth': 10, 'classifier__max_features': 'sqrt', 'classifier__min_samples_leaf': 2, 'classifier__n_estimators': 30} 0.5792989004141397\n"
          ],
          "name": "stdout"
        }
      ]
    },
    {
      "cell_type": "code",
      "metadata": {
        "id": "zppcDBqjg87a",
        "colab_type": "code",
        "colab": {
          "base_uri": "https://localhost:8080/",
          "height": 187
        },
        "outputId": "f39f0b0e-c5ea-422c-8d82-09cc812b18d3"
      },
      "source": [
        "%%time\n",
        "\n",
        "# initialize binary relevance multi-label classifier\n",
        "# with a XgBoost classifier\n",
        "from sklearn.ensemble import GradientBoostingClassifier\n",
        "\n",
        "classifier = BinaryRelevance(\n",
        "    classifier = GradientBoostingClassifier(),\n",
        "    require_dense = [False, True]\n",
        ")\n",
        "\n",
        "# train\n",
        "classifier.fit(X_train, Y_train)\n",
        "\n",
        "# predict\n",
        "predictions = classifier.predict(X_test)\n",
        "\n",
        "#Evaluation\n",
        "print(\"Train score : {}\".format(classifier.score(X_train, Y_train)))\n",
        "print(\"Test score = \", accuracy_score(Y_test, predictions))\n",
        "print(\"Precision =\", precision_score(Y_test, predictions, average= \"weighted\"))\n",
        "print(\"Recall = \", recall_score(Y_test, predictions, average= \"weighted\"))\n",
        "print(\"Hamming_loss = \", hamming_loss(Y_test, predictions))\n",
        "print(\"F1 score = \", f1_score(Y_test, predictions, average = \"weighted\"))\n",
        "print(\"\\n\")"
      ],
      "execution_count": null,
      "outputs": [
        {
          "output_type": "stream",
          "text": [
            "Train score : 0.5736884665925401\n",
            "Test score =  0.572338167668907\n",
            "Precision = 0.7214032336188018\n",
            "Recall =  0.721849173553719\n",
            "Hamming_loss =  0.045311368268566715\n",
            "F1 score =  0.6812902363329079\n",
            "\n",
            "\n",
            "CPU times: user 14.6 s, sys: 19.7 ms, total: 14.6 s\n",
            "Wall time: 14.6 s\n"
          ],
          "name": "stdout"
        }
      ]
    },
    {
      "cell_type": "markdown",
      "metadata": {
        "id": "Utw9xvWtaN6A",
        "colab_type": "text"
      },
      "source": [
        "## Classifier Chains"
      ]
    },
    {
      "cell_type": "code",
      "metadata": {
        "colab_type": "code",
        "id": "ORL0NHeQcqHh",
        "colab": {
          "base_uri": "https://localhost:8080/",
          "height": 187
        },
        "outputId": "1ce223c6-9cff-4c72-ecd9-df0c4e1cfd9e"
      },
      "source": [
        "%%time\n",
        "\n",
        "# Using classifier chains\n",
        "from skmultilearn.problem_transform import ClassifierChain\n",
        "\n",
        "\n",
        "classifier = ClassifierChain(\n",
        "    classifier = LogisticRegression(),\n",
        "    require_dense = [False, True]\n",
        ")\n",
        "\n",
        "# train\n",
        "classifier.fit(X_train, Y_train)\n",
        "\n",
        "# predict\n",
        "predictions = classifier.predict(X_test)\n",
        "\n",
        "#Evaluation\n",
        "print(\"Train score : {}\".format(classifier.score(X_train, Y_train)))\n",
        "print(\"Test score = \", accuracy_score(Y_test, predictions))\n",
        "print(\"Precision =\", precision_score(Y_test, predictions, average= \"weighted\"))\n",
        "print(\"Recall = \", recall_score(Y_test, predictions, average= \"weighted\"))\n",
        "print(\"Hamming_loss = \", hamming_loss(Y_test, predictions))\n",
        "print(\"F1 score = \", f1_score(Y_test, predictions, average = \"weighted\"))\n",
        "print(\"\\n\")"
      ],
      "execution_count": null,
      "outputs": [
        {
          "output_type": "stream",
          "text": [
            "Train score : 0.5856666329728091\n",
            "Test score =  0.5836575875486382\n",
            "Precision = 0.6299224632597168\n",
            "Recall =  0.7251033057851239\n",
            "Hamming_loss =  0.046305186383007395\n",
            "F1 score =  0.6690063024308491\n",
            "\n",
            "\n",
            "CPU times: user 3.13 s, sys: 7.72 ms, total: 3.14 s\n",
            "Wall time: 3.14 s\n"
          ],
          "name": "stdout"
        }
      ]
    },
    {
      "cell_type": "code",
      "metadata": {
        "id": "SOWv498NaNa-",
        "colab_type": "code",
        "colab": {
          "base_uri": "https://localhost:8080/",
          "height": 187
        },
        "outputId": "ae807ad7-e9fb-4035-cb93-af2ac37cf639"
      },
      "source": [
        "%%time\n",
        "\n",
        "# Using classifier chain\n",
        "from skmultilearn.problem_transform import ClassifierChain\n",
        "from sklearn.ensemble import RandomForestClassifier\n",
        "\n",
        "classifier = ClassifierChain(\n",
        "    classifier = RandomForestClassifier(),\n",
        "    require_dense = [False, True]\n",
        ")\n",
        "\n",
        "# train\n",
        "classifier.fit(X_train, Y_train)\n",
        "\n",
        "# predict\n",
        "predictions = classifier.predict(X_test)\n",
        "\n",
        "#Evaluation\n",
        "print(\"Train score : {}\".format(classifier.score(X_train, Y_train)))\n",
        "print(\"Test score = \", accuracy_score(Y_test, predictions))\n",
        "print(\"Precision =\", precision_score(Y_test, predictions, average= \"weighted\"))\n",
        "print(\"Recall = \", recall_score(Y_test, predictions, average= \"weighted\"))\n",
        "print(\"Hamming_loss = \", hamming_loss(Y_test, predictions))\n",
        "print(\"F1 score = \", f1_score(Y_test, predictions, average = \"weighted\"))\n",
        "print(\"\\n\")"
      ],
      "execution_count": null,
      "outputs": [
        {
          "output_type": "stream",
          "text": [
            "Train score : 0.5911755786920044\n",
            "Test score =  0.5840113194198797\n",
            "Precision = 0.724667129842086\n",
            "Recall =  0.7269628099173554\n",
            "Hamming_loss =  0.04614235742640412\n",
            "F1 score =  0.6785449092214304\n",
            "\n",
            "\n",
            "CPU times: user 51.1 s, sys: 96.2 ms, total: 51.2 s\n",
            "Wall time: 51.2 s\n"
          ],
          "name": "stdout"
        }
      ]
    },
    {
      "cell_type": "code",
      "metadata": {
        "id": "n_NdQgPwsdt4",
        "colab_type": "code",
        "colab": {
          "base_uri": "https://localhost:8080/",
          "height": 187
        },
        "outputId": "d761de14-2b88-4d72-fd73-63c27dc20b6b"
      },
      "source": [
        "%%time\n",
        "\n",
        "# Using classifier chain\n",
        "from xgboost import XGBClassifier\n",
        "\n",
        "\n",
        "classifier = ClassifierChain(\n",
        "    classifier = XGBClassifier(),\n",
        "    require_dense = [False, True]\n",
        ")\n",
        "\n",
        "# train\n",
        "classifier.fit(X_train, Y_train)\n",
        "\n",
        "# predict\n",
        "predictions = classifier.predict(X_test)\n",
        "\n",
        "#Evaluation\n",
        "print(\"Train score : {}\".format(classifier.score(X_train, Y_train)))\n",
        "print(\"Test score = \", accuracy_score(Y_test, predictions))\n",
        "print(\"Precision =\", precision_score(Y_test, predictions, average= 'samples'))\n",
        "print(\"Recall = \", recall_score(Y_test, predictions, average= 'samples'))\n",
        "print(\"Hamming_loss = \", hamming_loss(Y_test, predictions, ))\n",
        "print(\"F1 score = \", f1_score(Y_test, predictions, average = 'samples'))\n",
        "print(\"\\n\")"
      ],
      "execution_count": null,
      "outputs": [
        {
          "output_type": "stream",
          "text": [
            "Train score : 0.5868796118467603\n",
            "Test score =  0.5844829619148685\n",
            "Precision = 0.8281059623472075\n",
            "Recall =  0.7574542909173259\n",
            "Hamming_loss =  0.04623219409211627\n",
            "F1 score =  0.7839449883135771\n",
            "\n",
            "\n",
            "CPU times: user 12.7 s, sys: 75.4 ms, total: 12.8 s\n",
            "Wall time: 12.8 s\n"
          ],
          "name": "stdout"
        }
      ]
    },
    {
      "cell_type": "markdown",
      "metadata": {
        "id": "c_Ly7L8gkGXm",
        "colab_type": "text"
      },
      "source": [
        "## Clustering with Classifier Chain"
      ]
    },
    {
      "cell_type": "code",
      "metadata": {
        "id": "yntlt4ngwuDA",
        "colab_type": "code",
        "colab": {}
      },
      "source": [
        "from skmultilearn.cluster import MatrixLabelSpaceClusterer\n",
        "from sklearn.cluster import KMeans\n",
        "from skmultilearn.ensemble import MajorityVotingClassifier, LabelSpacePartitioningClassifier"
      ],
      "execution_count": null,
      "outputs": []
    },
    {
      "cell_type": "code",
      "metadata": {
        "id": "xTV5uZNnvsfY",
        "colab_type": "code",
        "colab": {}
      },
      "source": [
        "matrix_clusterer = MatrixLabelSpaceClusterer(clusterer=KMeans(n_clusters=3))"
      ],
      "execution_count": null,
      "outputs": []
    },
    {
      "cell_type": "code",
      "metadata": {
        "id": "ucDDpkEtvx8L",
        "colab_type": "code",
        "colab": {
          "base_uri": "https://localhost:8080/",
          "height": 51
        },
        "outputId": "8354d508-f4e9-4b9a-eb30-3940d480d841"
      },
      "source": [
        "matrix_clusterer.fit_predict(X_train, Y_train)"
      ],
      "execution_count": null,
      "outputs": [
        {
          "output_type": "execute_result",
          "data": {
            "text/plain": [
              "array([list([0, 1, 2, 3, 4, 5, 6, 8, 9, 10, 11, 12, 13, 16, 17, 18, 19, 20]),\n",
              "       list([7, 14]), list([15])], dtype=object)"
            ]
          },
          "metadata": {
            "tags": []
          },
          "execution_count": 60
        }
      ]
    },
    {
      "cell_type": "code",
      "metadata": {
        "id": "0G5PJvokwDI5",
        "colab_type": "code",
        "colab": {}
      },
      "source": [
        "classifier = LabelSpacePartitioningClassifier(\n",
        "    classifier = ClassifierChain(classifier=RandomForestClassifier()),\n",
        "    clusterer = matrix_clusterer\n",
        ")"
      ],
      "execution_count": null,
      "outputs": []
    },
    {
      "cell_type": "code",
      "metadata": {
        "id": "lR9fi8PfwbSN",
        "colab_type": "code",
        "colab": {}
      },
      "source": [
        "classifier.fit(X_train, Y_train)\n",
        "prediction = classifier.predict(X_test)"
      ],
      "execution_count": null,
      "outputs": []
    },
    {
      "cell_type": "code",
      "metadata": {
        "id": "IyFPZIZzx1wD",
        "colab_type": "code",
        "colab": {
          "base_uri": "https://localhost:8080/",
          "height": 153
        },
        "outputId": "64a3c66e-0de9-46a8-8eaa-46f015cc47cd"
      },
      "source": [
        "print(\"Train score : {}\".format(classifier.score(X_train, Y_train)))\n",
        "print(\"Test score = \", accuracy_score(Y_test, predictions))\n",
        "print(\"Precision =\", precision_score(Y_test, predictions, average= 'samples'))\n",
        "print(\"Recall = \", recall_score(Y_test, predictions, average= 'samples'))\n",
        "print(\"Hamming_loss = \", hamming_loss(Y_test, predictions, ))\n",
        "print(\"F1 score = \", f1_score(Y_test, predictions, average = 'samples'))\n",
        "print(\"\\n\")"
      ],
      "execution_count": null,
      "outputs": [
        {
          "output_type": "stream",
          "text": [
            "Train score : 0.5820276963509552\n",
            "Test score =  0.5846008725386157\n",
            "Precision = 0.8282042212003301\n",
            "Recall =  0.7574542909173259\n",
            "Hamming_loss =  0.04621534971729524\n",
            "F1 score =  0.7840039436254507\n",
            "\n",
            "\n"
          ],
          "name": "stdout"
        }
      ]
    }
  ]
}